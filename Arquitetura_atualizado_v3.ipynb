{
 "cells": [
  {
   "cell_type": "code",
   "execution_count": 1,
   "metadata": {
    "id": "7Iblujhritb7"
   },
   "outputs": [],
   "source": [
    "# Python packages\n",
    "import numpy as np\n",
    "import matplotlib.pyplot as plt\n",
    "from tensorflow.keras.layers import Input, Conv1D, MaxPooling1D, Dropout, BatchNormalization, Flatten, Dense, ReLU, Add\n",
    "from tensorflow.keras.models import Model\n",
    "from tensorflow.keras.optimizers import Adam\n",
    "from tensorflow.keras.callbacks import ReduceLROnPlateau, ModelCheckpoint, EarlyStopping\n",
    "\n",
    "# import sklearn.metrics as skmetrics\n",
    "from sklearn.metrics import accuracy_score, classification_report, multilabel_confusion_matrix\n",
    "\n",
    "import pandas as pd\n",
    "import seaborn as sns"
   ]
  },
  {
   "cell_type": "code",
   "execution_count": 2,
   "metadata": {},
   "outputs": [],
   "source": [
    "import utils"
   ]
  },
  {
   "cell_type": "code",
   "execution_count": 3,
   "metadata": {
    "id": "vUQrLYiVitb-"
   },
   "outputs": [],
   "source": [
    "# Load data\n",
    "data = np.load('dados.npz')\n",
    "\n",
    "# Training set\n",
    "X_train = data['X_train']\n",
    "y_train = data['y_train']\n",
    "\n",
    "# Test set\n",
    "X_test = data['X_test']\n",
    "y_test = data['y_test']"
   ]
  },
  {
   "cell_type": "code",
   "execution_count": 4,
   "metadata": {
    "colab": {
     "base_uri": "https://localhost:8080/"
    },
    "executionInfo": {
     "elapsed": 6,
     "status": "ok",
     "timestamp": 1650318890514,
     "user": {
      "displayName": "Daniel Zanco",
      "userId": "00377184438322722637"
     },
     "user_tz": 180
    },
    "id": "9H3L_qAmitb_",
    "outputId": "0b8c7df8-7a2d-4911-9c2b-214e80e23f5b"
   },
   "outputs": [
    {
     "name": "stdout",
     "output_type": "stream",
     "text": [
      "X_train = (18358, 1000, 12)\n",
      "y_train = (18358, 5)\n",
      "X_test = (2055, 1000, 12)\n",
      "y_test = (2055, 5)\n"
     ]
    }
   ],
   "source": [
    "# Data summary\n",
    "print(f'X_train = {X_train.shape}')\n",
    "print(f'y_train = {y_train.shape}')\n",
    "print(f'X_test = {X_test.shape}')\n",
    "print(f'y_test = {y_test.shape}')"
   ]
  },
  {
   "cell_type": "code",
   "execution_count": 5,
   "metadata": {
    "id": "B4uvDKkEitcA"
   },
   "outputs": [],
   "source": [
    "# Input layer\n",
    "input_layer = Input(shape=X_train.shape[1:])"
   ]
  },
  {
   "cell_type": "code",
   "execution_count": 6,
   "metadata": {},
   "outputs": [],
   "source": [
    "model = utils.get_model(input_layer, 'rajpurkar')"
   ]
  },
  {
   "cell_type": "code",
   "execution_count": null,
   "metadata": {},
   "outputs": [],
   "source": [
    "model.summary()"
   ]
  },
  {
   "cell_type": "code",
   "execution_count": 7,
   "metadata": {
    "id": "AyILeZmuitcE"
   },
   "outputs": [],
   "source": [
    "model.compile(loss='binary_crossentropy', optimizer=Adam(), metrics=['accuracy'])"
   ]
  },
  {
   "cell_type": "code",
   "execution_count": 25,
   "metadata": {
    "id": "EJwqYsL6itcF"
   },
   "outputs": [],
   "source": [
    "callbacks = []\n",
    "\n",
    "# filepath='C:/Users/sarah/TCC/ECG Classification Models/Weights improvement/weights-improvement-{epoch:02d}-{val_loss:.2f}.h5'\n",
    "\n",
    "monitor = 'val_loss'\n",
    "\n",
    "callbacks.append(ReduceLROnPlateau(monitor=monitor, factor=0.1, patience=10, min_lr=0.001/1000))\n",
    "# callbacks.append(EarlyStopping(monitor=monitor, mode='auto', verbose=1, patience=10))\n",
    "# callbacks.append(ModelCheckpoint(filepath, monitor=monitor, mode='auto', verbose=1, save_best_only=True))"
   ]
  },
  {
   "cell_type": "code",
   "execution_count": null,
   "metadata": {
    "colab": {
     "base_uri": "https://localhost:8080/"
    },
    "executionInfo": {
     "elapsed": 10,
     "status": "ok",
     "timestamp": 1650318898298,
     "user": {
      "displayName": "Daniel Zanco",
      "userId": "00377184438322722637"
     },
     "user_tz": 180
    },
    "id": "eR1N86rjitcF",
    "outputId": "bf167cba-2bd2-4d6c-ae82-454f4f5167a6"
   },
   "outputs": [],
   "source": [
    "callbacks"
   ]
  },
  {
   "cell_type": "code",
   "execution_count": 26,
   "metadata": {
    "colab": {
     "base_uri": "https://localhost:8080/"
    },
    "executionInfo": {
     "elapsed": 1253813,
     "status": "ok",
     "timestamp": 1650320171183,
     "user": {
      "displayName": "Daniel Zanco",
      "userId": "00377184438322722637"
     },
     "user_tz": 180
    },
    "id": "0Mc3EvrpitcF",
    "outputId": "122ad81d-b87e-446f-d70e-c9b1805e5077"
   },
   "outputs": [
    {
     "name": "stdout",
     "output_type": "stream",
     "text": [
      "Train on 18358 samples, validate on 2055 samples\n",
      "Epoch 1/50\n",
      "18358/18358 [==============================] - 83s 5ms/sample - loss: 0.1977 - accuracy: 0.9188 - val_loss: 0.2819 - val_accuracy: 0.8940\n",
      "Epoch 2/50\n",
      "18358/18358 [==============================] - 85s 5ms/sample - loss: 0.1916 - accuracy: 0.9221 - val_loss: 0.2847 - val_accuracy: 0.8955\n",
      "Epoch 3/50\n",
      "18358/18358 [==============================] - 85s 5ms/sample - loss: 0.1911 - accuracy: 0.9221 - val_loss: 0.2739 - val_accuracy: 0.8921\n",
      "Epoch 4/50\n",
      "18358/18358 [==============================] - 85s 5ms/sample - loss: 0.1886 - accuracy: 0.9229 - val_loss: 0.2932 - val_accuracy: 0.8935\n",
      "Epoch 5/50\n",
      "18358/18358 [==============================] - 85s 5ms/sample - loss: 0.1879 - accuracy: 0.9238 - val_loss: 0.2824 - val_accuracy: 0.8952\n",
      "Epoch 6/50\n",
      "18358/18358 [==============================] - 85s 5ms/sample - loss: 0.1850 - accuracy: 0.9246 - val_loss: 0.2824 - val_accuracy: 0.8940\n",
      "Epoch 7/50\n",
      "18358/18358 [==============================] - 85s 5ms/sample - loss: 0.1831 - accuracy: 0.9255 - val_loss: 0.2916 - val_accuracy: 0.8947\n",
      "Epoch 8/50\n",
      "18358/18358 [==============================] - 85s 5ms/sample - loss: 0.1823 - accuracy: 0.9254 - val_loss: 0.2866 - val_accuracy: 0.8962\n",
      "Epoch 9/50\n",
      "18358/18358 [==============================] - 85s 5ms/sample - loss: 0.1815 - accuracy: 0.9264 - val_loss: 0.2806 - val_accuracy: 0.8955\n",
      "Epoch 10/50\n",
      "18358/18358 [==============================] - 2617s 143ms/sample - loss: 0.1794 - accuracy: 0.9278 - val_loss: 0.2969 - val_accuracy: 0.8949\n",
      "Epoch 11/50\n",
      "18358/18358 [==============================] - 82s 4ms/sample - loss: 0.1797 - accuracy: 0.9263 - val_loss: 0.2939 - val_accuracy: 0.8959\n",
      "Epoch 12/50\n",
      "18358/18358 [==============================] - 85s 5ms/sample - loss: 0.1767 - accuracy: 0.9280 - val_loss: 0.3026 - val_accuracy: 0.8931\n",
      "Epoch 13/50\n",
      "18358/18358 [==============================] - 85s 5ms/sample - loss: 0.1761 - accuracy: 0.9289 - val_loss: 0.2820 - val_accuracy: 0.8965\n",
      "Epoch 14/50\n",
      "18358/18358 [==============================] - 85s 5ms/sample - loss: 0.1711 - accuracy: 0.9312 - val_loss: 0.2902 - val_accuracy: 0.8959\n",
      "Epoch 15/50\n",
      "18358/18358 [==============================] - 85s 5ms/sample - loss: 0.1715 - accuracy: 0.9306 - val_loss: 0.2939 - val_accuracy: 0.8944\n",
      "Epoch 16/50\n",
      "18358/18358 [==============================] - 85s 5ms/sample - loss: 0.1693 - accuracy: 0.9315 - val_loss: 0.2935 - val_accuracy: 0.8957\n",
      "Epoch 17/50\n",
      "18358/18358 [==============================] - 85s 5ms/sample - loss: 0.1698 - accuracy: 0.9314 - val_loss: 0.2934 - val_accuracy: 0.8954\n",
      "Epoch 18/50\n",
      "18358/18358 [==============================] - 85s 5ms/sample - loss: 0.1697 - accuracy: 0.9320 - val_loss: 0.2923 - val_accuracy: 0.8954\n",
      "Epoch 19/50\n",
      "18358/18358 [==============================] - 86s 5ms/sample - loss: 0.1693 - accuracy: 0.9318 - val_loss: 0.2942 - val_accuracy: 0.8955\n",
      "Epoch 20/50\n",
      "18358/18358 [==============================] - 85s 5ms/sample - loss: 0.1693 - accuracy: 0.9321 - val_loss: 0.2909 - val_accuracy: 0.8959\n",
      "Epoch 21/50\n",
      "18358/18358 [==============================] - 86s 5ms/sample - loss: 0.1689 - accuracy: 0.9312 - val_loss: 0.2948 - val_accuracy: 0.8960\n",
      "Epoch 22/50\n",
      "18358/18358 [==============================] - 85s 5ms/sample - loss: 0.1690 - accuracy: 0.9315 - val_loss: 0.2924 - val_accuracy: 0.8956\n",
      "Epoch 23/50\n",
      "18358/18358 [==============================] - 85s 5ms/sample - loss: 0.1692 - accuracy: 0.9320 - val_loss: 0.2934 - val_accuracy: 0.8954\n",
      "Epoch 24/50\n",
      "18358/18358 [==============================] - 85s 5ms/sample - loss: 0.1677 - accuracy: 0.9330 - val_loss: 0.2931 - val_accuracy: 0.8959\n",
      "Epoch 25/50\n",
      "18358/18358 [==============================] - 85s 5ms/sample - loss: 0.1669 - accuracy: 0.9321 - val_loss: 0.2939 - val_accuracy: 0.8954\n",
      "Epoch 26/50\n",
      "18358/18358 [==============================] - 85s 5ms/sample - loss: 0.1687 - accuracy: 0.9323 - val_loss: 0.2926 - val_accuracy: 0.8960\n",
      "Epoch 27/50\n",
      "18358/18358 [==============================] - 85s 5ms/sample - loss: 0.1680 - accuracy: 0.9322 - val_loss: 0.2932 - val_accuracy: 0.8961\n",
      "Epoch 28/50\n",
      "18358/18358 [==============================] - 85s 5ms/sample - loss: 0.1672 - accuracy: 0.9330 - val_loss: 0.2927 - val_accuracy: 0.8956\n",
      "Epoch 29/50\n",
      "18358/18358 [==============================] - 85s 5ms/sample - loss: 0.1679 - accuracy: 0.9320 - val_loss: 0.2960 - val_accuracy: 0.8949\n",
      "Epoch 30/50\n",
      "18358/18358 [==============================] - 85s 5ms/sample - loss: 0.1669 - accuracy: 0.9325 - val_loss: 0.2939 - val_accuracy: 0.8959\n",
      "Epoch 31/50\n",
      "18358/18358 [==============================] - 85s 5ms/sample - loss: 0.1683 - accuracy: 0.9322 - val_loss: 0.2930 - val_accuracy: 0.8957\n",
      "Epoch 32/50\n",
      "18358/18358 [==============================] - 85s 5ms/sample - loss: 0.1668 - accuracy: 0.9323 - val_loss: 0.2933 - val_accuracy: 0.8958\n",
      "Epoch 33/50\n",
      "18358/18358 [==============================] - 85s 5ms/sample - loss: 0.1678 - accuracy: 0.9321 - val_loss: 0.2938 - val_accuracy: 0.8959\n",
      "Epoch 34/50\n",
      "18358/18358 [==============================] - 85s 5ms/sample - loss: 0.1667 - accuracy: 0.9328 - val_loss: 0.2932 - val_accuracy: 0.8961\n",
      "Epoch 35/50\n",
      "18358/18358 [==============================] - 85s 5ms/sample - loss: 0.1676 - accuracy: 0.9321 - val_loss: 0.2952 - val_accuracy: 0.8957\n",
      "Epoch 36/50\n",
      "18358/18358 [==============================] - 87s 5ms/sample - loss: 0.1682 - accuracy: 0.9320 - val_loss: 0.2960 - val_accuracy: 0.8951\n",
      "Epoch 37/50\n",
      "18358/18358 [==============================] - 89s 5ms/sample - loss: 0.1679 - accuracy: 0.9330 - val_loss: 0.2949 - val_accuracy: 0.8949\n",
      "Epoch 38/50\n",
      "18358/18358 [==============================] - 89s 5ms/sample - loss: 0.1686 - accuracy: 0.9320 - val_loss: 0.2936 - val_accuracy: 0.8960\n",
      "Epoch 39/50\n",
      "18358/18358 [==============================] - 89s 5ms/sample - loss: 0.1674 - accuracy: 0.9327 - val_loss: 0.2944 - val_accuracy: 0.8958\n",
      "Epoch 40/50\n",
      "18358/18358 [==============================] - 77s 4ms/sample - loss: 0.1673 - accuracy: 0.9326 - val_loss: 0.2970 - val_accuracy: 0.8951\n",
      "Epoch 41/50\n",
      "18358/18358 [==============================] - 67s 4ms/sample - loss: 0.1672 - accuracy: 0.9321 - val_loss: 0.2951 - val_accuracy: 0.8952\n",
      "Epoch 42/50\n",
      "18358/18358 [==============================] - 68s 4ms/sample - loss: 0.1678 - accuracy: 0.9323 - val_loss: 0.2963 - val_accuracy: 0.8951\n",
      "Epoch 43/50\n",
      "18358/18358 [==============================] - 68s 4ms/sample - loss: 0.1661 - accuracy: 0.9323 - val_loss: 0.2951 - val_accuracy: 0.8953\n",
      "Epoch 44/50\n",
      "18358/18358 [==============================] - 68s 4ms/sample - loss: 0.1680 - accuracy: 0.9325 - val_loss: 0.2955 - val_accuracy: 0.8958\n",
      "Epoch 45/50\n",
      "18358/18358 [==============================] - 68s 4ms/sample - loss: 0.1676 - accuracy: 0.9320 - val_loss: 0.2954 - val_accuracy: 0.8953\n",
      "Epoch 46/50\n",
      "18358/18358 [==============================] - 68s 4ms/sample - loss: 0.1673 - accuracy: 0.9327 - val_loss: 0.2945 - val_accuracy: 0.8958\n",
      "Epoch 47/50\n",
      "18358/18358 [==============================] - 68s 4ms/sample - loss: 0.1676 - accuracy: 0.9336 - val_loss: 0.2934 - val_accuracy: 0.8958\n",
      "Epoch 48/50\n",
      "18358/18358 [==============================] - 67s 4ms/sample - loss: 0.1670 - accuracy: 0.9332 - val_loss: 0.2945 - val_accuracy: 0.8955\n",
      "Epoch 49/50\n",
      "18358/18358 [==============================] - 68s 4ms/sample - loss: 0.1667 - accuracy: 0.9328 - val_loss: 0.2955 - val_accuracy: 0.8952\n",
      "Epoch 50/50\n",
      "18358/18358 [==============================] - 68s 4ms/sample - loss: 0.1661 - accuracy: 0.9323 - val_loss: 0.2954 - val_accuracy: 0.8955\n"
     ]
    }
   ],
   "source": [
    "#Treino do modelo\n",
    "history = model.fit(X_train, y_train, batch_size=64, epochs=50, validation_data=(X_test, y_test), callbacks=callbacks)"
   ]
  },
  {
   "cell_type": "code",
   "execution_count": 27,
   "metadata": {
    "colab": {
     "base_uri": "https://localhost:8080/",
     "height": 279
    },
    "executionInfo": {
     "elapsed": 765,
     "status": "ok",
     "timestamp": 1650320287911,
     "user": {
      "displayName": "Daniel Zanco",
      "userId": "00377184438322722637"
     },
     "user_tz": 180
    },
    "id": "Aj4Z3JSRitcF",
    "outputId": "d7952c8b-c86c-404d-ee54-c9ab573d10aa"
   },
   "outputs": [
    {
     "data": {
      "image/png": "[encoded data removed]",
      "text/plain": [
       "<Figure size 432x288 with 1 Axes>"
      ]
     },
     "metadata": {
      "needs_background": "light"
     },
     "output_type": "display_data"
    }
   ],
   "source": [
    "# Plot results\n",
    "plt.plot(history.epoch, history.history['loss'], '-o')\n",
    "plt.plot(history.epoch, history.history['val_loss'], '-*')\n",
    "\n",
    "plt.xlabel('Epochs')\n",
    "plt.ylabel('Cost')\n",
    "plt.legend(['Training set', 'Validation set'])\n",
    "local = 'E:/Usuários/Sarah/Documentos/UTFPR/TCC/Resultados/Teste Batch/lteste_64_50'\n",
    "plt.savefig(local)\n",
    "plt.show()"
   ]
  },
  {
   "cell_type": "code",
   "execution_count": 28,
   "metadata": {
    "colab": {
     "base_uri": "https://localhost:8080/",
     "height": 279
    },
    "executionInfo": {
     "elapsed": 543,
     "status": "ok",
     "timestamp": 1650320293024,
     "user": {
      "displayName": "Daniel Zanco",
      "userId": "00377184438322722637"
     },
     "user_tz": 180
    },
    "id": "llEypC3oitcG",
    "outputId": "b5f9b7fb-a17b-45b3-a860-c9b9340af0e0"
   },
   "outputs": [
    {
     "data": {
      "image/png": "[encoded data removed]",
      "text/plain": [
       "<Figure size 432x288 with 1 Axes>"
      ]
     },
     "metadata": {
      "needs_background": "light"
     },
     "output_type": "display_data"
    }
   ],
   "source": [
    "plt.plot(history.epoch, history.history['accuracy'], '-o')\n",
    "plt.plot(history.epoch, history.history['val_accuracy'], '-*')\n",
    "\n",
    "plt.xlabel('Epochs')\n",
    "plt.ylabel('Accuracy')\n",
    "plt.legend(['Training set', 'Validation set'])\n",
    "local = 'E:/Usuários/Sarah/Documentos/UTFPR/TCC/Resultados/Teste Batch/ateste_64_50'\n",
    "plt.savefig(local)\n",
    "plt.show()"
   ]
  },
  {
   "cell_type": "code",
   "execution_count": 29,
   "metadata": {
    "colab": {
     "base_uri": "https://localhost:8080/"
    },
    "executionInfo": {
     "elapsed": 4096,
     "status": "ok",
     "timestamp": 1650320300617,
     "user": {
      "displayName": "Daniel Zanco",
      "userId": "00377184438322722637"
     },
     "user_tz": 180
    },
    "id": "EJYS1j0IitcG",
    "outputId": "c4022a08-cf8c-4fe1-c4b4-b5286e491743"
   },
   "outputs": [
    {
     "name": "stdout",
     "output_type": "stream",
     "text": [
      "2055/2055 [==============================] - 2s 1ms/sample - loss: 0.2954 - accuracy: 0.8955\n",
      "Custo de teste = 0.2954\n",
      "Acurácia de teste = 89.55%\n"
     ]
    }
   ],
   "source": [
    "score = model.evaluate(X_test, y_test)\n",
    "print(f\"Custo de teste = {score[0]:.4f}\")\n",
    "print(f\"Acurácia de teste = {100*score[1]:.2f}%\")"
   ]
  },
  {
   "cell_type": "code",
   "execution_count": 30,
   "metadata": {
    "id": "FdxM1ZMsitcG"
   },
   "outputs": [],
   "source": [
    "#Prediction of the model\n",
    "prediction = model.predict(X_test) #Realiza a predição das probabilidades de cada label\n",
    "prediction_bin = np.array(prediction)"
   ]
  },
  {
   "cell_type": "code",
   "execution_count": 31,
   "metadata": {
    "colab": {
     "base_uri": "https://localhost:8080/"
    },
    "executionInfo": {
     "elapsed": 246,
     "status": "ok",
     "timestamp": 1650320406802,
     "user": {
      "displayName": "Daniel Zanco",
      "userId": "00377184438322722637"
     },
     "user_tz": 180
    },
    "id": "Xbsde-lAjE-H",
    "outputId": "f27b3efb-a46d-440c-a8c5-4a84d520d81a"
   },
   "outputs": [
    {
     "name": "stdout",
     "output_type": "stream",
     "text": [
      "Prediction: [0 0 0 1 1] \t\tReal Label: [0 0 0 1 1]\n"
     ]
    }
   ],
   "source": [
    "prediction_bin = (prediction > 0.5).astype('int')\n",
    "\n",
    "print(f'Prediction: {prediction_bin[67]} \\t\\tReal Label: {y_test[67]}')"
   ]
  },
  {
   "cell_type": "code",
   "execution_count": 32,
   "metadata": {
    "id": "lUB7r40GitcH"
   },
   "outputs": [],
   "source": [
    "#List with the labels strings\n",
    "label_string = ['NORM','MI','CD','STTC','HYP']"
   ]
  },
  {
   "cell_type": "code",
   "execution_count": 33,
   "metadata": {
    "id": "O01ql9G3itcH"
   },
   "outputs": [],
   "source": [
    "#Transform the binary vector in a list with strings (could be y_test or the predictions)\n",
    "def get_strings(label_string,label_bin):\n",
    "    label_bin_string = []\n",
    "    for x in range(len(label_bin)):\n",
    "        lst = []\n",
    "        for y in range(len(label_string)):\n",
    "            value = label_bin[x][y]\n",
    "            if value == 1:\n",
    "                lst.append(label_string[y])\n",
    "        label_bin_string.append(lst)\n",
    "    \n",
    "    return label_bin_string"
   ]
  },
  {
   "cell_type": "code",
   "execution_count": 34,
   "metadata": {
    "id": "v6EzVyALitcH"
   },
   "outputs": [],
   "source": [
    "#Y_test string labels\n",
    "y_test_string = get_strings(label_string, y_test)\n",
    "\n",
    "#Predictions strings labels\n",
    "prediction_string = get_strings(label_string, prediction_bin)"
   ]
  },
  {
   "cell_type": "code",
   "execution_count": 35,
   "metadata": {
    "colab": {
     "base_uri": "https://localhost:8080/"
    },
    "executionInfo": {
     "elapsed": 252,
     "status": "ok",
     "timestamp": 1650320422996,
     "user": {
      "displayName": "Daniel Zanco",
      "userId": "00377184438322722637"
     },
     "user_tz": 180
    },
    "id": "8Drs3qNUitcH",
    "outputId": "b0e47610-7035-4ed1-e489-b1907e72dcbb"
   },
   "outputs": [
    {
     "name": "stdout",
     "output_type": "stream",
     "text": [
      "Index: 67\n",
      "\n",
      "Diagnostic = [0 0 0 1 1]\n",
      "Prediction = [0 0 0 1 1]\n",
      "\n",
      "Diagnostic = ['STTC', 'HYP']\n",
      "Prediction = ['STTC', 'HYP']\n"
     ]
    }
   ],
   "source": [
    "#Visualizing an example\n",
    "index = 67\n",
    "print(f'Index: {index}\\n')\n",
    "\n",
    "print(f'Diagnostic = {y_test[index]}')\n",
    "print(f'Prediction = {prediction_bin[index]}\\n')\n",
    "\n",
    "print(f'Diagnostic = {y_test_string[index]}')\n",
    "print(f'Prediction = {prediction_string[index]}')"
   ]
  },
  {
   "cell_type": "code",
   "execution_count": 36,
   "metadata": {
    "colab": {
     "base_uri": "https://localhost:8080/"
    },
    "executionInfo": {
     "elapsed": 249,
     "status": "ok",
     "timestamp": 1650320425810,
     "user": {
      "displayName": "Daniel Zanco",
      "userId": "00377184438322722637"
     },
     "user_tz": 180
    },
    "id": "auw6lcPPj5Tx",
    "outputId": "84cef113-f352-4796-e627-31388cafbb5a"
   },
   "outputs": [
    {
     "data": {
      "text/plain": [
       "0.8954744525547446"
      ]
     },
     "execution_count": 36,
     "metadata": {},
     "output_type": "execute_result"
    }
   ],
   "source": [
    "(y_test == prediction_bin).mean()"
   ]
  },
  {
   "cell_type": "code",
   "execution_count": 37,
   "metadata": {
    "colab": {
     "base_uri": "https://localhost:8080/"
    },
    "executionInfo": {
     "elapsed": 239,
     "status": "ok",
     "timestamp": 1650320435226,
     "user": {
      "displayName": "Daniel Zanco",
      "userId": "00377184438322722637"
     },
     "user_tz": 180
    },
    "id": "N3hFGkKJitcH",
    "outputId": "ff5ceffe-291b-4b86-fa98-c053545745c9"
   },
   "outputs": [
    {
     "name": "stdout",
     "output_type": "stream",
     "text": [
      "Example accuracy = 100.00%\n"
     ]
    }
   ],
   "source": [
    "#Accuracy from the example below\n",
    "acc_index = accuracy_score(y_test[index],prediction_bin[index])\n",
    "print(f'Example accuracy = {100 * acc_index:.2f}%')"
   ]
  },
  {
   "cell_type": "code",
   "execution_count": 38,
   "metadata": {
    "colab": {
     "base_uri": "https://localhost:8080/",
     "height": 444
    },
    "executionInfo": {
     "elapsed": 767,
     "status": "ok",
     "timestamp": 1650320438009,
     "user": {
      "displayName": "Daniel Zanco",
      "userId": "00377184438322722637"
     },
     "user_tz": 180
    },
    "id": "KGrSSYdgitcH",
    "outputId": "7609068c-3be8-4504-88fe-c0ef9a04223d"
   },
   "outputs": [
    {
     "data": {
      "image/png": "[encoded data removed]",
      "text/plain": [
       "<Figure size 720x504 with 1 Axes>"
      ]
     },
     "metadata": {
      "needs_background": "light"
     },
     "output_type": "display_data"
    }
   ],
   "source": [
    "#Plot the example with the diagnostic and prediction\n",
    "valor_med = X_test[index, ].mean(axis=-1)\n",
    "fig_s, ax_s = plt.subplots(figsize=(10,7))\n",
    "ax_s.set_title(f'Diagnostic: {y_test_string[index]}       Prediction:{prediction_string[index]}')\n",
    "ax_s.plot(valor_med)\n",
    "plt.show()"
   ]
  },
  {
   "cell_type": "code",
   "execution_count": 39,
   "metadata": {
    "colab": {
     "base_uri": "https://localhost:8080/",
     "height": 386
    },
    "executionInfo": {
     "elapsed": 249,
     "status": "ok",
     "timestamp": 1650320500240,
     "user": {
      "displayName": "Daniel Zanco",
      "userId": "00377184438322722637"
     },
     "user_tz": 180
    },
    "id": "Ovr6FNZ0itcI",
    "outputId": "485452c6-1e27-4705-c996-ef8a3ee6cf0a"
   },
   "outputs": [
    {
     "name": "stderr",
     "output_type": "stream",
     "text": [
      "C:\\Miniconda3\\lib\\site-packages\\sklearn\\metrics\\_classification.py:1221: UndefinedMetricWarning: Precision and F-score are ill-defined and being set to 0.0 in samples with no predicted labels. Use `zero_division` parameter to control this behavior.\n",
      "  _warn_prf(average, modifier, msg_start, len(result))\n"
     ]
    },
    {
     "data": {
      "text/html": [
       "<div>\n",
       "<style scoped>\n",
       "    .dataframe tbody tr th:only-of-type {\n",
       "        vertical-align: middle;\n",
       "    }\n",
       "\n",
       "    .dataframe tbody tr th {\n",
       "        vertical-align: top;\n",
       "    }\n",
       "\n",
       "    .dataframe thead th {\n",
       "        text-align: right;\n",
       "    }\n",
       "</style>\n",
       "<table border=\"1\" class=\"dataframe\">\n",
       "  <thead>\n",
       "    <tr style=\"text-align: right;\">\n",
       "      <th></th>\n",
       "      <th>precision</th>\n",
       "      <th>recall</th>\n",
       "      <th>f1-score</th>\n",
       "      <th>support</th>\n",
       "    </tr>\n",
       "  </thead>\n",
       "  <tbody>\n",
       "    <tr>\n",
       "      <th>NORM</th>\n",
       "      <td>0.836414</td>\n",
       "      <td>0.947644</td>\n",
       "      <td>0.888562</td>\n",
       "      <td>955</td>\n",
       "    </tr>\n",
       "    <tr>\n",
       "      <th>MI</th>\n",
       "      <td>0.801887</td>\n",
       "      <td>0.611511</td>\n",
       "      <td>0.693878</td>\n",
       "      <td>417</td>\n",
       "    </tr>\n",
       "    <tr>\n",
       "      <th>CD</th>\n",
       "      <td>0.806897</td>\n",
       "      <td>0.704819</td>\n",
       "      <td>0.752412</td>\n",
       "      <td>498</td>\n",
       "    </tr>\n",
       "    <tr>\n",
       "      <th>STTC</th>\n",
       "      <td>0.796258</td>\n",
       "      <td>0.753937</td>\n",
       "      <td>0.774520</td>\n",
       "      <td>508</td>\n",
       "    </tr>\n",
       "    <tr>\n",
       "      <th>HYP</th>\n",
       "      <td>0.700730</td>\n",
       "      <td>0.430493</td>\n",
       "      <td>0.533333</td>\n",
       "      <td>223</td>\n",
       "    </tr>\n",
       "    <tr>\n",
       "      <th>micro avg</th>\n",
       "      <td>0.811252</td>\n",
       "      <td>0.765090</td>\n",
       "      <td>0.787495</td>\n",
       "      <td>2601</td>\n",
       "    </tr>\n",
       "    <tr>\n",
       "      <th>macro avg</th>\n",
       "      <td>0.788437</td>\n",
       "      <td>0.689681</td>\n",
       "      <td>0.728541</td>\n",
       "      <td>2601</td>\n",
       "    </tr>\n",
       "    <tr>\n",
       "      <th>weighted avg</th>\n",
       "      <td>0.805751</td>\n",
       "      <td>0.765090</td>\n",
       "      <td>0.778552</td>\n",
       "      <td>2601</td>\n",
       "    </tr>\n",
       "    <tr>\n",
       "      <th>samples avg</th>\n",
       "      <td>0.815491</td>\n",
       "      <td>0.798946</td>\n",
       "      <td>0.792133</td>\n",
       "      <td>2601</td>\n",
       "    </tr>\n",
       "  </tbody>\n",
       "</table>\n",
       "</div>"
      ],
      "text/plain": [
       "              precision    recall  f1-score  support\n",
       "NORM           0.836414  0.947644  0.888562      955\n",
       "MI             0.801887  0.611511  0.693878      417\n",
       "CD             0.806897  0.704819  0.752412      498\n",
       "STTC           0.796258  0.753937  0.774520      508\n",
       "HYP            0.700730  0.430493  0.533333      223\n",
       "micro avg      0.811252  0.765090  0.787495     2601\n",
       "macro avg      0.788437  0.689681  0.728541     2601\n",
       "weighted avg   0.805751  0.765090  0.778552     2601\n",
       "samples avg    0.815491  0.798946  0.792133     2601"
      ]
     },
     "execution_count": 39,
     "metadata": {},
     "output_type": "execute_result"
    }
   ],
   "source": [
    "#Another metrics\n",
    "report = classification_report(y_test,prediction_bin,output_dict=True,target_names=['NORM', 'MI', 'CD', 'STTC', 'HYP'])\n",
    "\n",
    "report_df = pd.DataFrame.from_dict(report, orient='index')\n",
    "report_df"
   ]
  },
  {
   "cell_type": "code",
   "execution_count": 23,
   "metadata": {
    "colab": {
     "base_uri": "https://localhost:8080/"
    },
    "executionInfo": {
     "elapsed": 244,
     "status": "ok",
     "timestamp": 1650320600129,
     "user": {
      "displayName": "Daniel Zanco",
      "userId": "00377184438322722637"
     },
     "user_tz": 180
    },
    "id": "f3S8XJ__xSH0",
    "outputId": "1de3fed1-8fc2-4138-cdf9-d8dfc5fa8697"
   },
   "outputs": [
    {
     "data": {
      "text/plain": [
       "array([0.46284998, 0.20307223, 0.23978647, 0.24975488, 0.11117769])"
      ]
     },
     "execution_count": 23,
     "metadata": {},
     "output_type": "execute_result"
    }
   ],
   "source": [
    "# Verificar como normalizar usando `sample_weight`:\n",
    "# https://keras.io/api/models/model_training_apis/#fit-method\n",
    "y_train.mean(axis=0)\n"
   ]
  },
  {
   "cell_type": "code",
   "execution_count": 40,
   "metadata": {
    "colab": {
     "base_uri": "https://localhost:8080/",
     "height": 429
    },
    "executionInfo": {
     "elapsed": 1276,
     "status": "ok",
     "timestamp": 1650320853285,
     "user": {
      "displayName": "Daniel Zanco",
      "userId": "00377184438322722637"
     },
     "user_tz": 180
    },
    "id": "v8qeEzT1itcI",
    "outputId": "ef5580e1-92d9-47f8-8e7b-febc5eb2aa54"
   },
   "outputs": [
    {
     "name": "stderr",
     "output_type": "stream",
     "text": [
      "C:\\Miniconda3\\lib\\site-packages\\ipykernel_launcher.py:8: MatplotlibDeprecationWarning: Passing non-integers as three-element position specification is deprecated since 3.3 and will be removed two minor releases later.\n",
      "  \n"
     ]
    },
    {
     "data": {
      "image/png": "[encoded data removed]",
      "text/plain": [
       "<Figure size 1008x576 with 5 Axes>"
      ]
     },
     "metadata": {
      "needs_background": "light"
     },
     "output_type": "display_data"
    }
   ],
   "source": [
    "#Confusion marix\n",
    "cm = multilabel_confusion_matrix(y_test, prediction_bin)\n",
    "\n",
    "# https://www.kaggle.com/code/trolukovich/multi-label-classification-keras/notebook\n",
    "# Plot confusion matrix \n",
    "fig = plt.figure(figsize = (14, 8))\n",
    "for i, (label, matrix) in enumerate(zip(label_string, cm)):\n",
    "    plt.subplot(f'23{i+1}')\n",
    "    labels = [f'Not {label}', label]\n",
    "    sns.heatmap(matrix, annot = True, square = True, fmt = 'd', cbar = False, cmap = 'Blues', \n",
    "                xticklabels = labels, yticklabels = labels, linecolor = 'black', linewidth = 1)\n",
    "    plt.title(label)  \n",
    "plt.tight_layout()\n",
    "# local = 'E:/Usuários/Sarah/Documentos/UTFPR/TCC/Resultados/Teste Batch/CM_batch64_50'\n",
    "# plt.savefig(local)\n",
    "plt.show()"
   ]
  },
  {
   "cell_type": "code",
   "execution_count": null,
   "metadata": {
    "colab": {
     "base_uri": "https://localhost:8080/"
    },
    "executionInfo": {
     "elapsed": 3,
     "status": "ok",
     "timestamp": 1650321979213,
     "user": {
      "displayName": "Daniel Zanco",
      "userId": "00377184438322722637"
     },
     "user_tz": 180
    },
    "id": "Nq-nvebg1hn6",
    "outputId": "ff543788-1689-4993-851c-5034f3f0116c"
   },
   "outputs": [],
   "source": [
    "ind = 23\n",
    "y_test[ind,], y_bin[ind,]"
   ]
  },
  {
   "cell_type": "code",
   "execution_count": null,
   "metadata": {
    "colab": {
     "base_uri": "https://localhost:8080/"
    },
    "executionInfo": {
     "elapsed": 3,
     "status": "ok",
     "timestamp": 1650321703922,
     "user": {
      "displayName": "Daniel Zanco",
      "userId": "00377184438322722637"
     },
     "user_tz": 180
    },
    "id": "PmWvlOIo1LlF",
    "outputId": "109a00f3-511c-4d8f-bce1-2d8e08593a49"
   },
   "outputs": [],
   "source": [
    "np.where(y_test[67,] == 1)[0]\n",
    "np.where(y_bin[67,] == 1)[0]\n"
   ]
  }
 ],
 "metadata": {
  "accelerator": "GPU",
  "colab": {
   "collapsed_sections": [],
   "name": "Arquitetura_atualizado_2.ipynb",
   "provenance": []
  },
  "kernelspec": {
   "display_name": "Python 3",
   "language": "python",
   "name": "python3"
  },
  "language_info": {
   "codemirror_mode": {
    "name": "ipython",
    "version": 3
   },
   "file_extension": ".py",
   "mimetype": "text/x-python",
   "name": "python",
   "nbconvert_exporter": "python",
   "pygments_lexer": "ipython3",
   "version": "3.7.9"
  }
 },
 "nbformat": 4,
 "nbformat_minor": 4
}
