{
 "cells": [
  {
   "cell_type": "markdown",
   "metadata": {},
   "source": [
    "## ARQUITETURA"
   ]
  },
  {
   "cell_type": "markdown",
   "metadata": {},
   "source": [
    "<p> 1) RAJPURKAR, Pranav et. al. Cardiologist-Level Arrhythmia Detection with Convolutional Neural Networks</p>"
   ]
  },
  {
   "cell_type": "markdown",
   "metadata": {},
   "source": [
    "Importando bibliotecas"
   ]
  },
  {
   "cell_type": "code",
   "execution_count": 2,
   "metadata": {},
   "outputs": [
    {
     "name": "stderr",
     "output_type": "stream",
     "text": [
      "\n",
      "KeyboardInterrupt\n",
      "\n"
     ]
    }
   ],
   "source": [
    "#Bibliotecas básicas\n",
    "import numpy as np\n",
    "from numpy import load\n",
    "import matplotlib.pyplot as plt\n",
    "\n",
    "#Biblioteca para rede neural\n",
    "import tensorflow as tf\n",
    "import tensorflow.keras as keras\n",
    "from tensorflow.keras.layers import Input, Conv1D, MaxPooling1D, Dropout, BatchNormalization, Flatten, Dense, Activation, ReLU, Add\n",
    "from tensorflow.keras.models import Model\n",
    "from tensorflow.keras.optimizers import Adam\n",
    "from tensorflow.keras.callbacks import ReduceLROnPlateau\n",
    "\n",
    "from tensorflow.keras import backend as K\n",
    "\n",
    "#Bibliotecas para visualizar o modelo keras \n",
    "#from IPython.display import SVG\n",
    "#from keras.utils.vis_utils import model_to_dot\n"
   ]
  },
  {
   "cell_type": "markdown",
   "metadata": {},
   "source": [
    "Baixando os dados"
   ]
  },
  {
   "cell_type": "code",
   "execution_count": 2,
   "metadata": {},
   "outputs": [],
   "source": [
    "data = np.load('data.npz')"
   ]
  },
  {
   "cell_type": "markdown",
   "metadata": {},
   "source": [
    "Criando os conjuntos de treinamento e de teste"
   ]
  },
  {
   "cell_type": "code",
   "execution_count": 3,
   "metadata": {},
   "outputs": [],
   "source": [
    "#Conjunto de treinamento\n",
    "X_train = data['X_train']\n",
    "y_train = data['y_train']\n",
    "#Conjunto de teste\n",
    "X_test = data['X_test']\n",
    "y_test = data['y_test']"
   ]
  },
  {
   "cell_type": "markdown",
   "metadata": {},
   "source": [
    "Resumo"
   ]
  },
  {
   "cell_type": "code",
   "execution_count": 4,
   "metadata": {},
   "outputs": [
    {
     "name": "stdout",
     "output_type": "stream",
     "text": [
      "\tDIMENSÕES \n",
      "-------------------------\n",
      "X_train = (19267, 1000, 12)\n",
      "y_train = (19267,)\n",
      "-------------------------\n",
      "X_test = (2163, 1000, 12)\n",
      "y_test = (2163,)\n",
      "-------------------------\n",
      "\tSUMÁRIO \n",
      "-------------------------\n",
      "Total de exemplos de treinamento = 19267\n",
      "Total de exemplos de teste = 2163\n",
      "Total de amostras = 1000\n"
     ]
    }
   ],
   "source": [
    "#Sumário\n",
    "print(\"\\tDIMENSÕES \\n-------------------------\")\n",
    "print(f'X_train = {X_train.shape}')\n",
    "print(f'y_train = {y_train.shape}')\n",
    "print(\"-------------------------\")\n",
    "print(f'X_test = {X_test.shape}')\n",
    "print(f'y_test = {y_test.shape}')\n",
    "print(\"-------------------------\")\n",
    "print(\"\\tSUMÁRIO \\n-------------------------\")\n",
    "print(f\"Total de exemplos de treinamento = {X_train.shape[0]}\")\n",
    "print(f\"Total de exemplos de teste = {X_test.shape[0]}\")\n",
    "print(f\"Total de amostras = {X_train.shape[1]}\")"
   ]
  },
  {
   "cell_type": "markdown",
   "metadata": {},
   "source": [
    "Definindo dimensões"
   ]
  },
  {
   "cell_type": "code",
   "execution_count": 5,
   "metadata": {},
   "outputs": [
    {
     "name": "stdout",
     "output_type": "stream",
     "text": [
      "Input shape = (1000, 12)\n"
     ]
    }
   ],
   "source": [
    "input_shape=(1000, 12)\n",
    "print(f\"Input shape = {input_shape}\")"
   ]
  },
  {
   "cell_type": "markdown",
   "metadata": {},
   "source": [
    " "
   ]
  },
  {
   "cell_type": "markdown",
   "metadata": {},
   "source": [
    "**DESENVOLVIMENTO DA REDE**"
   ]
  },
  {
   "cell_type": "code",
   "execution_count": 6,
   "metadata": {},
   "outputs": [],
   "source": [
    "rate_drop = 0.5"
   ]
  },
  {
   "cell_type": "code",
   "execution_count": 7,
   "metadata": {},
   "outputs": [],
   "source": [
    "initializer='he_normal'"
   ]
  },
  {
   "cell_type": "code",
   "execution_count": 8,
   "metadata": {},
   "outputs": [],
   "source": [
    "K.clear_session()"
   ]
  },
  {
   "cell_type": "code",
   "execution_count": 9,
   "metadata": {},
   "outputs": [],
   "source": [
    "#Camada de entrada\n",
    "input_1 = Input(shape=input_shape)"
   ]
  },
  {
   "cell_type": "markdown",
   "metadata": {},
   "source": [
    "Primeiro bloco"
   ]
  },
  {
   "cell_type": "code",
   "execution_count": 10,
   "metadata": {},
   "outputs": [],
   "source": [
    "num_filter = 64\n",
    "\n",
    "conv_1 = Conv1D(kernel_size=16, strides=1, filters=num_filter,padding=\"same\",kernel_initializer=initializer)(input_1)\n",
    "bn_1 = BatchNormalization()(conv_1)\n",
    "relu_1 = ReLU()(bn_1)"
   ]
  },
  {
   "cell_type": "markdown",
   "metadata": {},
   "source": [
    "Primeiro bloco residual  \n",
    "Stride = 2  \n",
    "Filtros = 64"
   ]
  },
  {
   "cell_type": "code",
   "execution_count": 11,
   "metadata": {},
   "outputs": [],
   "source": [
    "#Bloco residual\n",
    "conv_2 = Conv1D(kernel_size=16,filters=num_filter,strides=1,padding=\"same\",kernel_initializer=initializer)(relu_1)\n",
    "bn_2 = BatchNormalization()(conv_2)\n",
    "relu_2 = ReLU()(bn_2)\n",
    "drop_1 = Dropout(rate_drop)(relu_2)\n",
    "conv_3 = Conv1D(kernel_size = 16, filters=num_filter,strides=2,padding=\"same\",kernel_initializer=initializer)(drop_1)\n",
    "\n",
    "#Short connection\n",
    "short_1 = MaxPooling1D(pool_size=1, strides=2)(relu_1)\n",
    "\n",
    "#Adicionando camadas\n",
    "add_1 = Add()([conv_3, short_1])"
   ]
  },
  {
   "cell_type": "markdown",
   "metadata": {},
   "source": [
    "Segundo bloco residual  \n",
    "Stride = 1  \n",
    "Filtros = 64"
   ]
  },
  {
   "cell_type": "code",
   "execution_count": 12,
   "metadata": {},
   "outputs": [],
   "source": [
    "#Bloco residual\n",
    "bn_3 = BatchNormalization()(add_1)\n",
    "relu_3 = ReLU()(bn_3)\n",
    "drop_2 = Dropout(rate_drop)(relu_3)\n",
    "conv_4 = Conv1D(kernel_size=16, filters=num_filter, strides=1, padding=\"same\",kernel_initializer=initializer)(drop_2)\n",
    "bn_4 = BatchNormalization()(conv_4)\n",
    "relu_4 = ReLU()(bn_4)\n",
    "drop_3 = Dropout(rate_drop)(relu_4)\n",
    "conv_5 = Conv1D(kernel_size=16, filters=num_filter, strides=1, padding=\"same\",kernel_initializer=initializer)(drop_3)\n",
    "\n",
    "#Short connection\n",
    "short_2 = MaxPooling1D(pool_size=1, strides=1)(add_1)\n",
    "\n",
    "#Adicionando camadas\n",
    "add_2 = Add()([conv_5, short_2])"
   ]
  },
  {
   "cell_type": "markdown",
   "metadata": {},
   "source": [
    "Terceiro bloco residual  \n",
    "Stride = 2  \n",
    "Filtros = 64"
   ]
  },
  {
   "cell_type": "code",
   "execution_count": 13,
   "metadata": {},
   "outputs": [],
   "source": [
    "#Bloco residual\n",
    "bn_5 = BatchNormalization()(add_2)\n",
    "relu_5 = ReLU()(bn_5)\n",
    "drop_4 = Dropout(rate_drop)(relu_5)\n",
    "conv_6 = Conv1D(kernel_size=16, filters=num_filter, strides=1, padding=\"same\",kernel_initializer=initializer)(drop_4)\n",
    "bn_6 = BatchNormalization()(conv_6)\n",
    "relu_6 = ReLU()(bn_6)\n",
    "drop_5 = Dropout(rate_drop)(relu_6)\n",
    "conv_7 = Conv1D(kernel_size=16, filters=num_filter, strides=2, padding=\"same\",kernel_initializer=initializer)(drop_5)\n",
    "\n",
    "#Short connection\n",
    "short_3 = MaxPooling1D(pool_size = 1, strides=2)(add_2)\n",
    "\n",
    "#Adição dos blocos\n",
    "add_3 = Add()([conv_7, short_3])"
   ]
  },
  {
   "cell_type": "markdown",
   "metadata": {},
   "source": [
    "Quarto bloco residual  \n",
    "Stride = 1  \n",
    "Filtros = 64"
   ]
  },
  {
   "cell_type": "code",
   "execution_count": 14,
   "metadata": {},
   "outputs": [],
   "source": [
    "#Bloco residual\n",
    "bn_7 = BatchNormalization()(add_3)\n",
    "relu_7 = ReLU()(bn_7)\n",
    "drop_6 = Dropout(rate_drop)(relu_7)\n",
    "conv_8 = Conv1D(kernel_size=16, filters=num_filter, strides=1, padding=\"same\",kernel_initializer=initializer)(drop_6)\n",
    "bn_8 = BatchNormalization()(conv_8)\n",
    "relu_8 = ReLU()(bn_8)\n",
    "drop_7 = Dropout(rate_drop)(relu_8)\n",
    "conv_9 = Conv1D(kernel_size=16, filters=num_filter, strides=1, padding=\"same\",kernel_initializer=initializer)(drop_7)\n",
    "\n",
    "#Short connection\n",
    "short_4 = MaxPooling1D(pool_size = 1, strides=1)(add_3)\n",
    "\n",
    "#Adição dos blocos\n",
    "add_4 = Add()([conv_9, short_4])"
   ]
  },
  {
   "cell_type": "markdown",
   "metadata": {},
   "source": [
    "Quinto bloco residual  \n",
    "Stride = 2  \n",
    "Filtros = 128"
   ]
  },
  {
   "cell_type": "code",
   "execution_count": 15,
   "metadata": {},
   "outputs": [],
   "source": [
    "num_filter = 128\n",
    "\n",
    "#Bloco residual\n",
    "bn_9 = BatchNormalization()(add_4)\n",
    "relu_9 = ReLU()(bn_9)\n",
    "drop_8 = Dropout(rate_drop)(relu_9)\n",
    "conv_10 = Conv1D(kernel_size=16, filters=num_filter, strides=1, padding=\"same\",kernel_initializer=initializer)(drop_8)\n",
    "bn_10 = BatchNormalization()(conv_10)\n",
    "relu_10 = ReLU()(bn_10)\n",
    "drop_9 = Dropout(rate_drop)(relu_10)\n",
    "conv_11 = Conv1D(kernel_size=16, filters=num_filter, strides=2, padding=\"same\",kernel_initializer=initializer)(drop_9)\n",
    "\n",
    "#Short connection\n",
    "conv_aj5 = Conv1D(kernel_size=16,filters=num_filter,strides=1,padding=\"same\")(add_4) #Ajustar o número de filtros para adicionar depois o Max ao conv_11\n",
    "short_5 = MaxPooling1D(pool_size = 1, strides=2)(conv_aj5)\n",
    "\n",
    "#Adição dos blocos\n",
    "add_5 = Add()([conv_11, short_5])"
   ]
  },
  {
   "cell_type": "markdown",
   "metadata": {},
   "source": [
    "Sexto bloco residual  \n",
    "Stride = 1  \n",
    "Filtros = 128"
   ]
  },
  {
   "cell_type": "code",
   "execution_count": 16,
   "metadata": {},
   "outputs": [],
   "source": [
    "#Bloco residual\n",
    "bn_11 = BatchNormalization()(add_5)\n",
    "relu_11 = ReLU()(bn_11)\n",
    "drop_9 = Dropout(rate_drop)(relu_11)\n",
    "conv_12 = Conv1D(kernel_size=16, filters=num_filter, strides=1, padding=\"same\",kernel_initializer=initializer)(drop_9)\n",
    "bn_12 = BatchNormalization()(conv_12)\n",
    "relu_12 = ReLU()(bn_12)\n",
    "drop_10 = Dropout(rate_drop)(relu_12)\n",
    "conv_13 = Conv1D(kernel_size=16, filters=num_filter, strides=1, padding=\"same\",kernel_initializer=initializer)(drop_10)\n",
    "\n",
    "#Short connection\n",
    "short_6 = MaxPooling1D(pool_size = 1, strides=1)(add_5)\n",
    "\n",
    "#Adição dos blocos\n",
    "add_6 = Add()([conv_13, short_6])"
   ]
  },
  {
   "cell_type": "markdown",
   "metadata": {},
   "source": [
    "Sétimo bloco residual  \n",
    "Strides = 2  \n",
    "Filtros = 128"
   ]
  },
  {
   "cell_type": "code",
   "execution_count": 17,
   "metadata": {},
   "outputs": [],
   "source": [
    "#Bloco residual\n",
    "bn_13 = BatchNormalization()(add_6)\n",
    "relu_13 = ReLU()(bn_13)\n",
    "drop_11 = Dropout(rate_drop)(relu_13)\n",
    "conv_14 = Conv1D(kernel_size=16, filters=num_filter, strides=1, padding=\"same\",kernel_initializer=initializer)(drop_11)\n",
    "bn_14 = BatchNormalization()(conv_14)\n",
    "relu_14 = ReLU()(bn_14)\n",
    "drop_12 = Dropout(rate_drop)(relu_14)\n",
    "conv_15 = Conv1D(kernel_size=16, filters=num_filter, strides=2, padding=\"same\",kernel_initializer=initializer)(drop_12)\n",
    "\n",
    "#Short connection\n",
    "short_7 = MaxPooling1D(pool_size = 1, strides=2)(add_6)\n",
    "\n",
    "#Adição dos blocos\n",
    "add_7 = Add()([conv_15, short_7])"
   ]
  },
  {
   "cell_type": "markdown",
   "metadata": {},
   "source": [
    "Oitavo bloco residual  \n",
    "Stride = 1  \n",
    "Filtros = 128"
   ]
  },
  {
   "cell_type": "code",
   "execution_count": 18,
   "metadata": {},
   "outputs": [],
   "source": [
    "#Bloco residual\n",
    "bn_15 = BatchNormalization()(add_7)\n",
    "relu_15 = ReLU()(bn_15)\n",
    "drop_13 = Dropout(rate_drop)(relu_15)\n",
    "conv_16 = Conv1D(kernel_size=16, filters=num_filter, strides=1, padding=\"same\",kernel_initializer=initializer)(drop_13)\n",
    "bn_16 = BatchNormalization()(conv_16)\n",
    "relu_16 = ReLU()(bn_16)\n",
    "drop_14 = Dropout(rate_drop)(relu_16)\n",
    "conv_17 = Conv1D(kernel_size=16, filters=num_filter, strides=1, padding=\"same\",kernel_initializer=initializer)(drop_14)\n",
    "\n",
    "#Short connection\n",
    "short_8 = MaxPooling1D(pool_size = 1, strides=1)(add_7)\n",
    "\n",
    "#Adição dos blocos\n",
    "add_8 = Add()([conv_17, short_8])"
   ]
  },
  {
   "cell_type": "markdown",
   "metadata": {},
   "source": [
    "Nono bloco residual  \n",
    "Stride = 2  \n",
    "Filtros = 192"
   ]
  },
  {
   "cell_type": "code",
   "execution_count": 19,
   "metadata": {},
   "outputs": [],
   "source": [
    "num_filter = 192\n",
    "\n",
    "#Bloco residual\n",
    "bn_17 = BatchNormalization()(add_8)\n",
    "relu_17 = ReLU()(bn_17)\n",
    "drop_15 = Dropout(rate_drop)(relu_17)\n",
    "conv_18 = Conv1D(kernel_size=16, filters=num_filter, strides=1, padding=\"same\",kernel_initializer=initializer)(drop_15)\n",
    "bn_18 = BatchNormalization()(conv_18)\n",
    "relu_18 = ReLU()(bn_18)\n",
    "drop_16 = Dropout(rate_drop)(relu_18)\n",
    "conv_19 = Conv1D(kernel_size=16, filters=num_filter, strides=2, padding=\"same\")(drop_16)\n",
    "\n",
    "#Short connection\n",
    "conv_aj17 = Conv1D(kernel_size=16, filters=num_filter, strides=1, padding=\"same\")(add_8)\n",
    "short_9 = MaxPooling1D(pool_size = 1, strides=2)(conv_aj17)\n",
    "\n",
    "#Adição dos blocos\n",
    "add_9 = Add()([conv_19, short_9])"
   ]
  },
  {
   "cell_type": "markdown",
   "metadata": {},
   "source": [
    "Décimo bloco residual  \n",
    "Stride = 1  \n",
    "Filtros = 192"
   ]
  },
  {
   "cell_type": "code",
   "execution_count": 20,
   "metadata": {},
   "outputs": [],
   "source": [
    "#Bloco residual\n",
    "bn_19 = BatchNormalization()(add_9)\n",
    "relu_19 = ReLU()(bn_19)\n",
    "drop_17 = Dropout(rate_drop)(relu_19)\n",
    "conv_20 = Conv1D(kernel_size=16, filters=num_filter, strides=1, padding=\"same\",kernel_initializer=initializer)(drop_17)\n",
    "bn_20 = BatchNormalization()(conv_20)\n",
    "relu_20 = ReLU()(bn_20)\n",
    "drop_18 = Dropout(rate_drop)(relu_20)\n",
    "conv_21 = Conv1D(kernel_size=16, filters=num_filter, strides=1, padding=\"same\",kernel_initializer=initializer)(drop_18)\n",
    "\n",
    "#Short connection\n",
    "short_10 = MaxPooling1D(pool_size = 1, strides=1)(add_9)\n",
    "\n",
    "#Adição dos blocos\n",
    "add_10 = Add()([conv_21, short_10])"
   ]
  },
  {
   "cell_type": "markdown",
   "metadata": {},
   "source": [
    "Décimo primeiro bloco residual  \n",
    "Stride = 2  \n",
    "Filtros = 192"
   ]
  },
  {
   "cell_type": "code",
   "execution_count": 21,
   "metadata": {},
   "outputs": [],
   "source": [
    "#Bloco residual\n",
    "bn_21 = BatchNormalization()(add_10)\n",
    "relu_21 = ReLU()(bn_21)\n",
    "drop_19 = Dropout(rate_drop)(relu_21)\n",
    "conv_22 = Conv1D(kernel_size=16, filters=num_filter, strides=1, padding=\"same\",kernel_initializer=initializer)(drop_19)\n",
    "bn_22 = BatchNormalization()(conv_22)\n",
    "relu_22 = ReLU()(bn_22)\n",
    "drop_20 = Dropout(rate_drop)(relu_22)\n",
    "conv_23 = Conv1D(kernel_size=16, filters=num_filter, strides=2, padding=\"same\",kernel_initializer=initializer)(drop_20)\n",
    "\n",
    "#Short connection\n",
    "short_11 = MaxPooling1D(pool_size = 1, strides=2)(add_10)\n",
    "\n",
    "#Adição dos blocos\n",
    "add_11 = Add()([conv_23, short_11])"
   ]
  },
  {
   "cell_type": "markdown",
   "metadata": {},
   "source": [
    "Décimo segundo bloco residual  \n",
    "Strides = 1  \n",
    "Filtros = 192"
   ]
  },
  {
   "cell_type": "code",
   "execution_count": 22,
   "metadata": {},
   "outputs": [],
   "source": [
    "#Bloco residual\n",
    "bn_23 = BatchNormalization()(add_11)\n",
    "relu_23 = ReLU()(bn_23)\n",
    "drop_21 = Dropout(rate_drop)(relu_23)\n",
    "conv_24 = Conv1D(kernel_size=16, filters=num_filter, strides=1, padding=\"same\",kernel_initializer=initializer)(drop_21)\n",
    "bn_24 = BatchNormalization()(conv_24)\n",
    "relu_24 = ReLU()(bn_24)\n",
    "drop_22 = Dropout(rate_drop)(relu_24)\n",
    "conv_25 = Conv1D(kernel_size=16, filters=num_filter, strides=1, padding=\"same\",kernel_initializer=initializer)(drop_22)\n",
    "\n",
    "#Short connection\n",
    "short_12 = MaxPooling1D(pool_size = 1, strides=1)(add_11)\n",
    "\n",
    "#Adição dos blocos\n",
    "add_12 = Add()([conv_25, short_12])"
   ]
  },
  {
   "cell_type": "markdown",
   "metadata": {},
   "source": [
    "Décimo terceiro bloco residual  \n",
    "Strides = 2  \n",
    "Filtros = 256"
   ]
  },
  {
   "cell_type": "code",
   "execution_count": 23,
   "metadata": {},
   "outputs": [],
   "source": [
    "num_filter = 256\n",
    "\n",
    "#Bloco residual\n",
    "bn_25 = BatchNormalization()(add_12)\n",
    "relu_25 = ReLU()(bn_25)\n",
    "drop_23 = Dropout(rate_drop)(relu_25)\n",
    "conv_26 = Conv1D(kernel_size=16, filters=num_filter, strides=1, padding=\"same\",kernel_initializer=initializer)(drop_23)\n",
    "bn_26 = BatchNormalization()(conv_26)\n",
    "relu_26 = ReLU()(bn_26)\n",
    "drop_24 = Dropout(rate_drop)(relu_26)\n",
    "conv_27 = Conv1D(kernel_size=16, filters=num_filter, strides=2, padding=\"same\",kernel_initializer=initializer)(drop_24)\n",
    "\n",
    "#Short connection\n",
    "conv_aj27 = Conv1D(kernel_size=16, filters=num_filter, strides=1, padding=\"same\")(add_12)\n",
    "short_13 = MaxPooling1D(pool_size = 1, strides=2)(conv_aj27)\n",
    "\n",
    "#Adição dos blocos\n",
    "add_13 = Add()([conv_27, short_13])"
   ]
  },
  {
   "cell_type": "markdown",
   "metadata": {},
   "source": [
    "Décimo quarto bloco residual  \n",
    "Stride = 1  \n",
    "Filtros = 256"
   ]
  },
  {
   "cell_type": "code",
   "execution_count": 24,
   "metadata": {},
   "outputs": [],
   "source": [
    "#Bloco residual\n",
    "bn_27 = BatchNormalization()(add_13)\n",
    "relu_27 = ReLU()(bn_27)\n",
    "drop_25 = Dropout(rate_drop)(relu_27)\n",
    "conv_28 = Conv1D(kernel_size=16, filters=num_filter, strides=1, padding=\"same\",kernel_initializer=initializer)(drop_25)\n",
    "bn_28 = BatchNormalization()(conv_28)\n",
    "relu_28 = ReLU()(bn_28)\n",
    "drop_26 = Dropout(rate_drop)(relu_28)\n",
    "conv_29 = Conv1D(kernel_size=16, filters=num_filter, strides=1, padding=\"same\",kernel_initializer=initializer)(drop_26)\n",
    "\n",
    "#Short connection\n",
    "short_14 = MaxPooling1D(pool_size = 1, strides=1)(add_13)\n",
    "\n",
    "#Adição dos blocos\n",
    "add_14 = Add()([conv_29, short_14])"
   ]
  },
  {
   "cell_type": "markdown",
   "metadata": {},
   "source": [
    "Décimo quinto bloco residual  \n",
    "Stride = 2  \n",
    "Filtros = 256"
   ]
  },
  {
   "cell_type": "code",
   "execution_count": 25,
   "metadata": {},
   "outputs": [],
   "source": [
    "#Bloco residual\n",
    "bn_29 = BatchNormalization()(add_14)\n",
    "relu_29 = ReLU()(bn_29)\n",
    "drop_27 = Dropout(rate_drop)(relu_29)\n",
    "conv_30 = Conv1D(kernel_size=16, filters=num_filter, strides=1, padding=\"same\",kernel_initializer=initializer)(drop_27)\n",
    "bn_30 = BatchNormalization()(conv_30)\n",
    "relu_30 = ReLU()(bn_30)\n",
    "drop_28 = Dropout(rate_drop)(relu_30)\n",
    "conv_31 = Conv1D(kernel_size=16, filters=num_filter, strides=2, padding=\"same\",kernel_initializer=initializer)(drop_28)\n",
    "\n",
    "#Short connection\n",
    "short_15 = MaxPooling1D(pool_size = 1, strides=2)(add_14)\n",
    "\n",
    "#Adição dos blocos\n",
    "add_15 = Add()([conv_31, short_15])"
   ]
  },
  {
   "cell_type": "markdown",
   "metadata": {},
   "source": [
    "Décimo sexto bloco residual  \n",
    "Stride = 2  \n",
    "Filtros = 256"
   ]
  },
  {
   "cell_type": "code",
   "execution_count": 26,
   "metadata": {},
   "outputs": [],
   "source": [
    "#Bloco residual\n",
    "bn_31 = BatchNormalization()(add_15)\n",
    "relu_31 = ReLU()(bn_31)\n",
    "drop_29 = Dropout(rate_drop)(relu_31)\n",
    "conv_32 = Conv1D(kernel_size=16, filters=num_filter, strides=1, padding=\"same\",kernel_initializer=initializer)(drop_29)\n",
    "bn_32 = BatchNormalization()(conv_32)\n",
    "relu_32 = ReLU()(bn_32)\n",
    "drop_30 = Dropout(rate_drop)(relu_32)\n",
    "conv_33 = Conv1D(kernel_size=16, filters=num_filter, strides=1, padding=\"same\",kernel_initializer=initializer)(drop_30)\n",
    "\n",
    "#Short connection\n",
    "short_16 = MaxPooling1D(pool_size = 1, strides=1)(add_15)\n",
    "\n",
    "#Adição dos blocos\n",
    "add_16 = Add()([conv_33, short_16])"
   ]
  },
  {
   "cell_type": "markdown",
   "metadata": {},
   "source": [
    "Último bloco da rede"
   ]
  },
  {
   "cell_type": "code",
   "execution_count": 27,
   "metadata": {},
   "outputs": [],
   "source": [
    "#Últimas camadas\n",
    "bn_33 = BatchNormalization()(add_16)\n",
    "relu_33 = ReLU()(bn_33)\n",
    "flat = Flatten()(relu_33)\n",
    "dense_1 = Dense(32)(flat)\n",
    "classification = Dense(2, activation='softmax')(dense_1)"
   ]
  },
  {
   "cell_type": "code",
   "execution_count": 28,
   "metadata": {},
   "outputs": [
    {
     "name": "stdout",
     "output_type": "stream",
     "text": [
      "Model: \"model\"\n",
      "__________________________________________________________________________________________________\n",
      "Layer (type)                    Output Shape         Param #     Connected to                     \n",
      "==================================================================================================\n",
      "input_1 (InputLayer)            [(None, 1000, 12)]   0                                            \n",
      "__________________________________________________________________________________________________\n",
      "conv1d (Conv1D)                 (None, 1000, 64)     12352       input_1[0][0]                    \n",
      "__________________________________________________________________________________________________\n",
      "batch_normalization (BatchNorma (None, 1000, 64)     256         conv1d[0][0]                     \n",
      "__________________________________________________________________________________________________\n",
      "re_lu (ReLU)                    (None, 1000, 64)     0           batch_normalization[0][0]        \n",
      "__________________________________________________________________________________________________\n",
      "conv1d_1 (Conv1D)               (None, 1000, 64)     65600       re_lu[0][0]                      \n",
      "__________________________________________________________________________________________________\n",
      "batch_normalization_1 (BatchNor (None, 1000, 64)     256         conv1d_1[0][0]                   \n",
      "__________________________________________________________________________________________________\n",
      "re_lu_1 (ReLU)                  (None, 1000, 64)     0           batch_normalization_1[0][0]      \n",
      "__________________________________________________________________________________________________\n",
      "dropout (Dropout)               (None, 1000, 64)     0           re_lu_1[0][0]                    \n",
      "__________________________________________________________________________________________________\n",
      "conv1d_2 (Conv1D)               (None, 500, 64)      65600       dropout[0][0]                    \n",
      "__________________________________________________________________________________________________\n",
      "max_pooling1d (MaxPooling1D)    (None, 500, 64)      0           re_lu[0][0]                      \n",
      "__________________________________________________________________________________________________\n",
      "add (Add)                       (None, 500, 64)      0           conv1d_2[0][0]                   \n",
      "                                                                 max_pooling1d[0][0]              \n",
      "__________________________________________________________________________________________________\n",
      "batch_normalization_2 (BatchNor (None, 500, 64)      256         add[0][0]                        \n",
      "__________________________________________________________________________________________________\n",
      "re_lu_2 (ReLU)                  (None, 500, 64)      0           batch_normalization_2[0][0]      \n",
      "__________________________________________________________________________________________________\n",
      "dropout_1 (Dropout)             (None, 500, 64)      0           re_lu_2[0][0]                    \n",
      "__________________________________________________________________________________________________\n",
      "conv1d_3 (Conv1D)               (None, 500, 64)      65600       dropout_1[0][0]                  \n",
      "__________________________________________________________________________________________________\n",
      "batch_normalization_3 (BatchNor (None, 500, 64)      256         conv1d_3[0][0]                   \n",
      "__________________________________________________________________________________________________\n",
      "re_lu_3 (ReLU)                  (None, 500, 64)      0           batch_normalization_3[0][0]      \n",
      "__________________________________________________________________________________________________\n",
      "dropout_2 (Dropout)             (None, 500, 64)      0           re_lu_3[0][0]                    \n",
      "__________________________________________________________________________________________________\n",
      "conv1d_4 (Conv1D)               (None, 500, 64)      65600       dropout_2[0][0]                  \n",
      "__________________________________________________________________________________________________\n",
      "max_pooling1d_1 (MaxPooling1D)  (None, 500, 64)      0           add[0][0]                        \n",
      "__________________________________________________________________________________________________\n",
      "add_1 (Add)                     (None, 500, 64)      0           conv1d_4[0][0]                   \n",
      "                                                                 max_pooling1d_1[0][0]            \n",
      "__________________________________________________________________________________________________\n",
      "batch_normalization_4 (BatchNor (None, 500, 64)      256         add_1[0][0]                      \n",
      "__________________________________________________________________________________________________\n",
      "re_lu_4 (ReLU)                  (None, 500, 64)      0           batch_normalization_4[0][0]      \n",
      "__________________________________________________________________________________________________\n",
      "dropout_3 (Dropout)             (None, 500, 64)      0           re_lu_4[0][0]                    \n",
      "__________________________________________________________________________________________________\n",
      "conv1d_5 (Conv1D)               (None, 500, 64)      65600       dropout_3[0][0]                  \n",
      "__________________________________________________________________________________________________\n",
      "batch_normalization_5 (BatchNor (None, 500, 64)      256         conv1d_5[0][0]                   \n",
      "__________________________________________________________________________________________________\n",
      "re_lu_5 (ReLU)                  (None, 500, 64)      0           batch_normalization_5[0][0]      \n",
      "__________________________________________________________________________________________________\n",
      "dropout_4 (Dropout)             (None, 500, 64)      0           re_lu_5[0][0]                    \n",
      "__________________________________________________________________________________________________\n",
      "conv1d_6 (Conv1D)               (None, 250, 64)      65600       dropout_4[0][0]                  \n",
      "__________________________________________________________________________________________________\n",
      "max_pooling1d_2 (MaxPooling1D)  (None, 250, 64)      0           add_1[0][0]                      \n",
      "__________________________________________________________________________________________________\n",
      "add_2 (Add)                     (None, 250, 64)      0           conv1d_6[0][0]                   \n",
      "                                                                 max_pooling1d_2[0][0]            \n",
      "__________________________________________________________________________________________________\n",
      "batch_normalization_6 (BatchNor (None, 250, 64)      256         add_2[0][0]                      \n",
      "__________________________________________________________________________________________________\n",
      "re_lu_6 (ReLU)                  (None, 250, 64)      0           batch_normalization_6[0][0]      \n",
      "__________________________________________________________________________________________________\n",
      "dropout_5 (Dropout)             (None, 250, 64)      0           re_lu_6[0][0]                    \n",
      "__________________________________________________________________________________________________\n",
      "conv1d_7 (Conv1D)               (None, 250, 64)      65600       dropout_5[0][0]                  \n",
      "__________________________________________________________________________________________________\n",
      "batch_normalization_7 (BatchNor (None, 250, 64)      256         conv1d_7[0][0]                   \n",
      "__________________________________________________________________________________________________\n",
      "re_lu_7 (ReLU)                  (None, 250, 64)      0           batch_normalization_7[0][0]      \n",
      "__________________________________________________________________________________________________\n",
      "dropout_6 (Dropout)             (None, 250, 64)      0           re_lu_7[0][0]                    \n",
      "__________________________________________________________________________________________________\n",
      "conv1d_8 (Conv1D)               (None, 250, 64)      65600       dropout_6[0][0]                  \n",
      "__________________________________________________________________________________________________\n",
      "max_pooling1d_3 (MaxPooling1D)  (None, 250, 64)      0           add_2[0][0]                      \n",
      "__________________________________________________________________________________________________\n",
      "add_3 (Add)                     (None, 250, 64)      0           conv1d_8[0][0]                   \n",
      "                                                                 max_pooling1d_3[0][0]            \n",
      "__________________________________________________________________________________________________\n",
      "batch_normalization_8 (BatchNor (None, 250, 64)      256         add_3[0][0]                      \n",
      "__________________________________________________________________________________________________\n",
      "re_lu_8 (ReLU)                  (None, 250, 64)      0           batch_normalization_8[0][0]      \n",
      "__________________________________________________________________________________________________\n",
      "dropout_7 (Dropout)             (None, 250, 64)      0           re_lu_8[0][0]                    \n",
      "__________________________________________________________________________________________________\n",
      "conv1d_9 (Conv1D)               (None, 250, 128)     131200      dropout_7[0][0]                  \n",
      "__________________________________________________________________________________________________\n",
      "batch_normalization_9 (BatchNor (None, 250, 128)     512         conv1d_9[0][0]                   \n",
      "__________________________________________________________________________________________________\n",
      "re_lu_9 (ReLU)                  (None, 250, 128)     0           batch_normalization_9[0][0]      \n",
      "__________________________________________________________________________________________________\n",
      "dropout_8 (Dropout)             (None, 250, 128)     0           re_lu_9[0][0]                    \n",
      "__________________________________________________________________________________________________\n",
      "conv1d_11 (Conv1D)              (None, 250, 128)     131200      add_3[0][0]                      \n",
      "__________________________________________________________________________________________________\n",
      "conv1d_10 (Conv1D)              (None, 125, 128)     262272      dropout_8[0][0]                  \n",
      "__________________________________________________________________________________________________\n",
      "max_pooling1d_4 (MaxPooling1D)  (None, 125, 128)     0           conv1d_11[0][0]                  \n",
      "__________________________________________________________________________________________________\n",
      "add_4 (Add)                     (None, 125, 128)     0           conv1d_10[0][0]                  \n",
      "                                                                 max_pooling1d_4[0][0]            \n",
      "__________________________________________________________________________________________________\n",
      "batch_normalization_10 (BatchNo (None, 125, 128)     512         add_4[0][0]                      \n",
      "__________________________________________________________________________________________________\n",
      "re_lu_10 (ReLU)                 (None, 125, 128)     0           batch_normalization_10[0][0]     \n",
      "__________________________________________________________________________________________________\n",
      "dropout_9 (Dropout)             (None, 125, 128)     0           re_lu_10[0][0]                   \n",
      "__________________________________________________________________________________________________\n",
      "conv1d_12 (Conv1D)              (None, 125, 128)     262272      dropout_9[0][0]                  \n",
      "__________________________________________________________________________________________________\n",
      "batch_normalization_11 (BatchNo (None, 125, 128)     512         conv1d_12[0][0]                  \n",
      "__________________________________________________________________________________________________\n",
      "re_lu_11 (ReLU)                 (None, 125, 128)     0           batch_normalization_11[0][0]     \n",
      "__________________________________________________________________________________________________\n",
      "dropout_10 (Dropout)            (None, 125, 128)     0           re_lu_11[0][0]                   \n",
      "__________________________________________________________________________________________________\n",
      "conv1d_13 (Conv1D)              (None, 125, 128)     262272      dropout_10[0][0]                 \n",
      "__________________________________________________________________________________________________\n",
      "max_pooling1d_5 (MaxPooling1D)  (None, 125, 128)     0           add_4[0][0]                      \n",
      "__________________________________________________________________________________________________\n",
      "add_5 (Add)                     (None, 125, 128)     0           conv1d_13[0][0]                  \n",
      "                                                                 max_pooling1d_5[0][0]            \n",
      "__________________________________________________________________________________________________\n",
      "batch_normalization_12 (BatchNo (None, 125, 128)     512         add_5[0][0]                      \n",
      "__________________________________________________________________________________________________\n",
      "re_lu_12 (ReLU)                 (None, 125, 128)     0           batch_normalization_12[0][0]     \n",
      "__________________________________________________________________________________________________\n",
      "dropout_11 (Dropout)            (None, 125, 128)     0           re_lu_12[0][0]                   \n",
      "__________________________________________________________________________________________________\n",
      "conv1d_14 (Conv1D)              (None, 125, 128)     262272      dropout_11[0][0]                 \n",
      "__________________________________________________________________________________________________\n",
      "batch_normalization_13 (BatchNo (None, 125, 128)     512         conv1d_14[0][0]                  \n",
      "__________________________________________________________________________________________________\n",
      "re_lu_13 (ReLU)                 (None, 125, 128)     0           batch_normalization_13[0][0]     \n",
      "__________________________________________________________________________________________________\n",
      "dropout_12 (Dropout)            (None, 125, 128)     0           re_lu_13[0][0]                   \n",
      "__________________________________________________________________________________________________\n",
      "conv1d_15 (Conv1D)              (None, 63, 128)      262272      dropout_12[0][0]                 \n",
      "__________________________________________________________________________________________________\n",
      "max_pooling1d_6 (MaxPooling1D)  (None, 63, 128)      0           add_5[0][0]                      \n",
      "__________________________________________________________________________________________________\n",
      "add_6 (Add)                     (None, 63, 128)      0           conv1d_15[0][0]                  \n",
      "                                                                 max_pooling1d_6[0][0]            \n",
      "__________________________________________________________________________________________________\n",
      "batch_normalization_14 (BatchNo (None, 63, 128)      512         add_6[0][0]                      \n",
      "__________________________________________________________________________________________________\n",
      "re_lu_14 (ReLU)                 (None, 63, 128)      0           batch_normalization_14[0][0]     \n",
      "__________________________________________________________________________________________________\n",
      "dropout_13 (Dropout)            (None, 63, 128)      0           re_lu_14[0][0]                   \n",
      "__________________________________________________________________________________________________\n",
      "conv1d_16 (Conv1D)              (None, 63, 128)      262272      dropout_13[0][0]                 \n",
      "__________________________________________________________________________________________________\n",
      "batch_normalization_15 (BatchNo (None, 63, 128)      512         conv1d_16[0][0]                  \n",
      "__________________________________________________________________________________________________\n",
      "re_lu_15 (ReLU)                 (None, 63, 128)      0           batch_normalization_15[0][0]     \n",
      "__________________________________________________________________________________________________\n",
      "dropout_14 (Dropout)            (None, 63, 128)      0           re_lu_15[0][0]                   \n",
      "__________________________________________________________________________________________________\n",
      "conv1d_17 (Conv1D)              (None, 63, 128)      262272      dropout_14[0][0]                 \n",
      "__________________________________________________________________________________________________\n",
      "max_pooling1d_7 (MaxPooling1D)  (None, 63, 128)      0           add_6[0][0]                      \n",
      "__________________________________________________________________________________________________\n",
      "add_7 (Add)                     (None, 63, 128)      0           conv1d_17[0][0]                  \n",
      "                                                                 max_pooling1d_7[0][0]            \n",
      "__________________________________________________________________________________________________\n",
      "batch_normalization_16 (BatchNo (None, 63, 128)      512         add_7[0][0]                      \n",
      "__________________________________________________________________________________________________\n",
      "re_lu_16 (ReLU)                 (None, 63, 128)      0           batch_normalization_16[0][0]     \n",
      "__________________________________________________________________________________________________\n",
      "dropout_15 (Dropout)            (None, 63, 128)      0           re_lu_16[0][0]                   \n",
      "__________________________________________________________________________________________________\n",
      "conv1d_18 (Conv1D)              (None, 63, 192)      393408      dropout_15[0][0]                 \n",
      "__________________________________________________________________________________________________\n",
      "batch_normalization_17 (BatchNo (None, 63, 192)      768         conv1d_18[0][0]                  \n",
      "__________________________________________________________________________________________________\n",
      "re_lu_17 (ReLU)                 (None, 63, 192)      0           batch_normalization_17[0][0]     \n",
      "__________________________________________________________________________________________________\n",
      "dropout_16 (Dropout)            (None, 63, 192)      0           re_lu_17[0][0]                   \n",
      "__________________________________________________________________________________________________\n",
      "conv1d_20 (Conv1D)              (None, 63, 192)      393408      add_7[0][0]                      \n",
      "__________________________________________________________________________________________________\n",
      "conv1d_19 (Conv1D)              (None, 32, 192)      590016      dropout_16[0][0]                 \n",
      "__________________________________________________________________________________________________\n",
      "max_pooling1d_8 (MaxPooling1D)  (None, 32, 192)      0           conv1d_20[0][0]                  \n",
      "__________________________________________________________________________________________________\n",
      "add_8 (Add)                     (None, 32, 192)      0           conv1d_19[0][0]                  \n",
      "                                                                 max_pooling1d_8[0][0]            \n",
      "__________________________________________________________________________________________________\n",
      "batch_normalization_18 (BatchNo (None, 32, 192)      768         add_8[0][0]                      \n",
      "__________________________________________________________________________________________________\n",
      "re_lu_18 (ReLU)                 (None, 32, 192)      0           batch_normalization_18[0][0]     \n",
      "__________________________________________________________________________________________________\n",
      "dropout_17 (Dropout)            (None, 32, 192)      0           re_lu_18[0][0]                   \n",
      "__________________________________________________________________________________________________\n",
      "conv1d_21 (Conv1D)              (None, 32, 192)      590016      dropout_17[0][0]                 \n",
      "__________________________________________________________________________________________________\n",
      "batch_normalization_19 (BatchNo (None, 32, 192)      768         conv1d_21[0][0]                  \n",
      "__________________________________________________________________________________________________\n",
      "re_lu_19 (ReLU)                 (None, 32, 192)      0           batch_normalization_19[0][0]     \n",
      "__________________________________________________________________________________________________\n",
      "dropout_18 (Dropout)            (None, 32, 192)      0           re_lu_19[0][0]                   \n",
      "__________________________________________________________________________________________________\n",
      "conv1d_22 (Conv1D)              (None, 32, 192)      590016      dropout_18[0][0]                 \n",
      "__________________________________________________________________________________________________\n",
      "max_pooling1d_9 (MaxPooling1D)  (None, 32, 192)      0           add_8[0][0]                      \n",
      "__________________________________________________________________________________________________\n",
      "add_9 (Add)                     (None, 32, 192)      0           conv1d_22[0][0]                  \n",
      "                                                                 max_pooling1d_9[0][0]            \n",
      "__________________________________________________________________________________________________\n",
      "batch_normalization_20 (BatchNo (None, 32, 192)      768         add_9[0][0]                      \n",
      "__________________________________________________________________________________________________\n",
      "re_lu_20 (ReLU)                 (None, 32, 192)      0           batch_normalization_20[0][0]     \n",
      "__________________________________________________________________________________________________\n",
      "dropout_19 (Dropout)            (None, 32, 192)      0           re_lu_20[0][0]                   \n",
      "__________________________________________________________________________________________________\n",
      "conv1d_23 (Conv1D)              (None, 32, 192)      590016      dropout_19[0][0]                 \n",
      "__________________________________________________________________________________________________\n",
      "batch_normalization_21 (BatchNo (None, 32, 192)      768         conv1d_23[0][0]                  \n",
      "__________________________________________________________________________________________________\n",
      "re_lu_21 (ReLU)                 (None, 32, 192)      0           batch_normalization_21[0][0]     \n",
      "__________________________________________________________________________________________________\n",
      "dropout_20 (Dropout)            (None, 32, 192)      0           re_lu_21[0][0]                   \n",
      "__________________________________________________________________________________________________\n",
      "conv1d_24 (Conv1D)              (None, 16, 192)      590016      dropout_20[0][0]                 \n",
      "__________________________________________________________________________________________________\n",
      "max_pooling1d_10 (MaxPooling1D) (None, 16, 192)      0           add_9[0][0]                      \n",
      "__________________________________________________________________________________________________\n",
      "add_10 (Add)                    (None, 16, 192)      0           conv1d_24[0][0]                  \n",
      "                                                                 max_pooling1d_10[0][0]           \n",
      "__________________________________________________________________________________________________\n",
      "batch_normalization_22 (BatchNo (None, 16, 192)      768         add_10[0][0]                     \n",
      "__________________________________________________________________________________________________\n",
      "re_lu_22 (ReLU)                 (None, 16, 192)      0           batch_normalization_22[0][0]     \n",
      "__________________________________________________________________________________________________\n",
      "dropout_21 (Dropout)            (None, 16, 192)      0           re_lu_22[0][0]                   \n",
      "__________________________________________________________________________________________________\n",
      "conv1d_25 (Conv1D)              (None, 16, 192)      590016      dropout_21[0][0]                 \n",
      "__________________________________________________________________________________________________\n",
      "batch_normalization_23 (BatchNo (None, 16, 192)      768         conv1d_25[0][0]                  \n",
      "__________________________________________________________________________________________________\n",
      "re_lu_23 (ReLU)                 (None, 16, 192)      0           batch_normalization_23[0][0]     \n",
      "__________________________________________________________________________________________________\n",
      "dropout_22 (Dropout)            (None, 16, 192)      0           re_lu_23[0][0]                   \n",
      "__________________________________________________________________________________________________\n",
      "conv1d_26 (Conv1D)              (None, 16, 192)      590016      dropout_22[0][0]                 \n",
      "__________________________________________________________________________________________________\n",
      "max_pooling1d_11 (MaxPooling1D) (None, 16, 192)      0           add_10[0][0]                     \n",
      "__________________________________________________________________________________________________\n",
      "add_11 (Add)                    (None, 16, 192)      0           conv1d_26[0][0]                  \n",
      "                                                                 max_pooling1d_11[0][0]           \n",
      "__________________________________________________________________________________________________\n",
      "batch_normalization_24 (BatchNo (None, 16, 192)      768         add_11[0][0]                     \n",
      "__________________________________________________________________________________________________\n",
      "re_lu_24 (ReLU)                 (None, 16, 192)      0           batch_normalization_24[0][0]     \n",
      "__________________________________________________________________________________________________\n",
      "dropout_23 (Dropout)            (None, 16, 192)      0           re_lu_24[0][0]                   \n",
      "__________________________________________________________________________________________________\n",
      "conv1d_27 (Conv1D)              (None, 16, 256)      786688      dropout_23[0][0]                 \n",
      "__________________________________________________________________________________________________\n",
      "batch_normalization_25 (BatchNo (None, 16, 256)      1024        conv1d_27[0][0]                  \n",
      "__________________________________________________________________________________________________\n",
      "re_lu_25 (ReLU)                 (None, 16, 256)      0           batch_normalization_25[0][0]     \n",
      "__________________________________________________________________________________________________\n",
      "dropout_24 (Dropout)            (None, 16, 256)      0           re_lu_25[0][0]                   \n",
      "__________________________________________________________________________________________________\n",
      "conv1d_29 (Conv1D)              (None, 16, 256)      786688      add_11[0][0]                     \n",
      "__________________________________________________________________________________________________\n",
      "conv1d_28 (Conv1D)              (None, 8, 256)       1048832     dropout_24[0][0]                 \n",
      "__________________________________________________________________________________________________\n",
      "max_pooling1d_12 (MaxPooling1D) (None, 8, 256)       0           conv1d_29[0][0]                  \n",
      "__________________________________________________________________________________________________\n",
      "add_12 (Add)                    (None, 8, 256)       0           conv1d_28[0][0]                  \n",
      "                                                                 max_pooling1d_12[0][0]           \n",
      "__________________________________________________________________________________________________\n",
      "batch_normalization_26 (BatchNo (None, 8, 256)       1024        add_12[0][0]                     \n",
      "__________________________________________________________________________________________________\n",
      "re_lu_26 (ReLU)                 (None, 8, 256)       0           batch_normalization_26[0][0]     \n",
      "__________________________________________________________________________________________________\n",
      "dropout_25 (Dropout)            (None, 8, 256)       0           re_lu_26[0][0]                   \n",
      "__________________________________________________________________________________________________\n",
      "conv1d_30 (Conv1D)              (None, 8, 256)       1048832     dropout_25[0][0]                 \n",
      "__________________________________________________________________________________________________\n",
      "batch_normalization_27 (BatchNo (None, 8, 256)       1024        conv1d_30[0][0]                  \n",
      "__________________________________________________________________________________________________\n",
      "re_lu_27 (ReLU)                 (None, 8, 256)       0           batch_normalization_27[0][0]     \n",
      "__________________________________________________________________________________________________\n",
      "dropout_26 (Dropout)            (None, 8, 256)       0           re_lu_27[0][0]                   \n",
      "__________________________________________________________________________________________________\n",
      "conv1d_31 (Conv1D)              (None, 8, 256)       1048832     dropout_26[0][0]                 \n",
      "__________________________________________________________________________________________________\n",
      "max_pooling1d_13 (MaxPooling1D) (None, 8, 256)       0           add_12[0][0]                     \n",
      "__________________________________________________________________________________________________\n",
      "add_13 (Add)                    (None, 8, 256)       0           conv1d_31[0][0]                  \n",
      "                                                                 max_pooling1d_13[0][0]           \n",
      "__________________________________________________________________________________________________\n",
      "batch_normalization_28 (BatchNo (None, 8, 256)       1024        add_13[0][0]                     \n",
      "__________________________________________________________________________________________________\n",
      "re_lu_28 (ReLU)                 (None, 8, 256)       0           batch_normalization_28[0][0]     \n",
      "__________________________________________________________________________________________________\n",
      "dropout_27 (Dropout)            (None, 8, 256)       0           re_lu_28[0][0]                   \n",
      "__________________________________________________________________________________________________\n",
      "conv1d_32 (Conv1D)              (None, 8, 256)       1048832     dropout_27[0][0]                 \n",
      "__________________________________________________________________________________________________\n",
      "batch_normalization_29 (BatchNo (None, 8, 256)       1024        conv1d_32[0][0]                  \n",
      "__________________________________________________________________________________________________\n",
      "re_lu_29 (ReLU)                 (None, 8, 256)       0           batch_normalization_29[0][0]     \n",
      "__________________________________________________________________________________________________\n",
      "dropout_28 (Dropout)            (None, 8, 256)       0           re_lu_29[0][0]                   \n",
      "__________________________________________________________________________________________________\n",
      "conv1d_33 (Conv1D)              (None, 4, 256)       1048832     dropout_28[0][0]                 \n",
      "__________________________________________________________________________________________________\n",
      "max_pooling1d_14 (MaxPooling1D) (None, 4, 256)       0           add_13[0][0]                     \n",
      "__________________________________________________________________________________________________\n",
      "add_14 (Add)                    (None, 4, 256)       0           conv1d_33[0][0]                  \n",
      "                                                                 max_pooling1d_14[0][0]           \n",
      "__________________________________________________________________________________________________\n",
      "batch_normalization_30 (BatchNo (None, 4, 256)       1024        add_14[0][0]                     \n",
      "__________________________________________________________________________________________________\n",
      "re_lu_30 (ReLU)                 (None, 4, 256)       0           batch_normalization_30[0][0]     \n",
      "__________________________________________________________________________________________________\n",
      "dropout_29 (Dropout)            (None, 4, 256)       0           re_lu_30[0][0]                   \n",
      "__________________________________________________________________________________________________\n",
      "conv1d_34 (Conv1D)              (None, 4, 256)       1048832     dropout_29[0][0]                 \n",
      "__________________________________________________________________________________________________\n",
      "batch_normalization_31 (BatchNo (None, 4, 256)       1024        conv1d_34[0][0]                  \n",
      "__________________________________________________________________________________________________\n",
      "re_lu_31 (ReLU)                 (None, 4, 256)       0           batch_normalization_31[0][0]     \n",
      "__________________________________________________________________________________________________\n",
      "dropout_30 (Dropout)            (None, 4, 256)       0           re_lu_31[0][0]                   \n",
      "__________________________________________________________________________________________________\n",
      "conv1d_35 (Conv1D)              (None, 4, 256)       1048832     dropout_30[0][0]                 \n",
      "__________________________________________________________________________________________________\n",
      "max_pooling1d_15 (MaxPooling1D) (None, 4, 256)       0           add_14[0][0]                     \n",
      "__________________________________________________________________________________________________\n",
      "add_15 (Add)                    (None, 4, 256)       0           conv1d_35[0][0]                  \n",
      "                                                                 max_pooling1d_15[0][0]           \n",
      "__________________________________________________________________________________________________\n",
      "batch_normalization_32 (BatchNo (None, 4, 256)       1024        add_15[0][0]                     \n",
      "__________________________________________________________________________________________________\n",
      "re_lu_32 (ReLU)                 (None, 4, 256)       0           batch_normalization_32[0][0]     \n",
      "__________________________________________________________________________________________________\n",
      "flatten (Flatten)               (None, 1024)         0           re_lu_32[0][0]                   \n",
      "__________________________________________________________________________________________________\n",
      "dense (Dense)                   (None, 32)           32800       flatten[0][0]                    \n",
      "__________________________________________________________________________________________________\n",
      "dense_1 (Dense)                 (None, 2)            66          dense[0][0]                      \n",
      "==================================================================================================\n",
      "Total params: 16,521,186\n",
      "Trainable params: 16,510,818\n",
      "Non-trainable params: 10,368\n",
      "__________________________________________________________________________________________________\n"
     ]
    }
   ],
   "source": [
    "#Criando modelo\n",
    "model = Model(inputs=input_1,outputs=classification)\n",
    "model.summary()"
   ]
  },
  {
   "cell_type": "markdown",
   "metadata": {},
   "source": [
    "**TREINANDO O MODELO**"
   ]
  },
  {
   "cell_type": "code",
   "execution_count": 29,
   "metadata": {},
   "outputs": [],
   "source": [
    "#Parâmetros de otimização\n",
    "lr = 0.001\n",
    "epochs = 10\n",
    "batch_size = 32"
   ]
  },
  {
   "cell_type": "code",
   "execution_count": 30,
   "metadata": {},
   "outputs": [],
   "source": [
    "#Otimizador Adam\n",
    "opt = Adam(lr, beta_1=0.9, beta_2=0.999)"
   ]
  },
  {
   "cell_type": "code",
   "execution_count": 31,
   "metadata": {},
   "outputs": [],
   "source": [
    "model.compile(loss='sparse_categorical_crossentropy', optimizer=opt, metrics=['accuracy'])"
   ]
  },
  {
   "cell_type": "code",
   "execution_count": 32,
   "metadata": {},
   "outputs": [],
   "source": [
    "callbacks = []\n",
    "\n",
    "#Reduz a taxa de aprendizagem quando o erro de validação para de melhorar\n",
    "callbacks.append(ReduceLROnPlateau(monitor='val_loss', factor=0.1, patience=10, min_lr=lr/10000))"
   ]
  },
  {
   "cell_type": "code",
   "execution_count": 33,
   "metadata": {},
   "outputs": [
    {
     "name": "stdout",
     "output_type": "stream",
     "text": [
      "Train on 19267 samples, validate on 2163 samples\n",
      "Epoch 1/10\n",
      "19267/19267 [==============================] - 98s 5ms/sample - loss: 0.4325 - accuracy: 0.8053 - val_loss: 0.8904 - val_accuracy: 0.7074\n",
      "Epoch 2/10\n",
      "19267/19267 [==============================] - 83s 4ms/sample - loss: 0.3497 - accuracy: 0.8430 - val_loss: 0.9883 - val_accuracy: 0.8054\n",
      "Epoch 3/10\n",
      "19267/19267 [==============================] - 83s 4ms/sample - loss: 0.3306 - accuracy: 0.8536 - val_loss: 0.5273 - val_accuracy: 0.7966\n",
      "Epoch 4/10\n",
      "19267/19267 [==============================] - 83s 4ms/sample - loss: 0.3185 - accuracy: 0.8632 - val_loss: 0.4957 - val_accuracy: 0.8091\n",
      "Epoch 5/10\n",
      "19267/19267 [==============================] - 83s 4ms/sample - loss: 0.3059 - accuracy: 0.8660 - val_loss: 0.3333 - val_accuracy: 0.8400\n",
      "Epoch 6/10\n",
      "19267/19267 [==============================] - 83s 4ms/sample - loss: 0.3014 - accuracy: 0.8685 - val_loss: 0.3725 - val_accuracy: 0.8567\n",
      "Epoch 7/10\n",
      "19267/19267 [==============================] - 84s 4ms/sample - loss: 0.2979 - accuracy: 0.8708 - val_loss: 0.3192 - val_accuracy: 0.8511\n",
      "Epoch 8/10\n",
      "19267/19267 [==============================] - 83s 4ms/sample - loss: 0.2922 - accuracy: 0.8713 - val_loss: 0.3170 - val_accuracy: 0.8488\n",
      "Epoch 9/10\n",
      "19267/19267 [==============================] - 83s 4ms/sample - loss: 0.2872 - accuracy: 0.8748 - val_loss: 0.3464 - val_accuracy: 0.8521\n",
      "Epoch 10/10\n",
      "19267/19267 [==============================] - 83s 4ms/sample - loss: 0.2875 - accuracy: 0.8755 - val_loss: 0.3122 - val_accuracy: 0.8618\n"
     ]
    }
   ],
   "source": [
    "#Treino do modelo\n",
    "history = model.fit(X_train, y_train, batch_size=batch_size, epochs=epochs, validation_data=(X_test, y_test), callbacks=callbacks)"
   ]
  },
  {
   "cell_type": "markdown",
   "metadata": {},
   "source": [
    "**AVALIANDO O TREINAMENTO**"
   ]
  },
  {
   "cell_type": "code",
   "execution_count": 34,
   "metadata": {},
   "outputs": [],
   "source": [
    "loss_train = history.history['loss']\n",
    "accuracy_train = history.history['accuracy']\n",
    "\n",
    "loss_val = history.history['val_loss']\n",
    "accuracy_val = history.history['val_accuracy']\n",
    "\n",
    "epochs = history.epoch"
   ]
  },
  {
   "cell_type": "code",
   "execution_count": 35,
   "metadata": {},
   "outputs": [
    {
     "data": {
      "image/png": "[encoded data removed]",
      "text/plain": [
       "<Figure size 432x288 with 1 Axes>"
      ]
     },
     "metadata": {
      "needs_background": "light"
     },
     "output_type": "display_data"
    }
   ],
   "source": [
    "plt.plot(epochs, loss_train, '-o')\n",
    "plt.plot(epochs, loss_val, '-*')\n",
    "\n",
    "plt.title('Custo de treinamento e de validação')\n",
    "plt.xlabel('Epochs')\n",
    "plt.ylabel('Custo')\n",
    "plt.legend(['Custo de treino', 'Custo de validação'])\n",
    "local = 'E:/Usuários/Sarah/Documentos/UTFPR/TCC/Resultados/Gráficos/Custo'\n",
    "plt.savefig(local)\n",
    "plt.show()"
   ]
  },
  {
   "cell_type": "code",
   "execution_count": 36,
   "metadata": {},
   "outputs": [
    {
     "data": {
      "image/png": "[encoded data removed]",
      "text/plain": [
       "<Figure size 432x288 with 1 Axes>"
      ]
     },
     "metadata": {
      "needs_background": "light"
     },
     "output_type": "display_data"
    }
   ],
   "source": [
    "plt.plot(epochs, accuracy_train, '-o')\n",
    "plt.plot(epochs, accuracy_val, '-*')\n",
    "\n",
    "plt.title('Acurácia de treino e de validação')\n",
    "plt.xlabel('Épocas')\n",
    "plt.ylabel('Acurácia')\n",
    "plt.legend(['Acurácia de treino', 'Acurácia de validação'])\n",
    "local = 'E:/Usuários/Sarah/Documentos/UTFPR/TCC/Resultados/Gráficos/Acuracia'\n",
    "plt.savefig(local)\n",
    "plt.show()"
   ]
  },
  {
   "cell_type": "code",
   "execution_count": 37,
   "metadata": {},
   "outputs": [
    {
     "name": "stdout",
     "output_type": "stream",
     "text": [
      "2163/2163 [==============================] - 2s 1ms/sample - loss: 0.3122 - accuracy: 0.8618\n",
      "Custo de teste = 0.3122\n",
      "Acurácia de teste = 86.18%\n"
     ]
    }
   ],
   "source": [
    "score = model.evaluate(X_test, y_test)\n",
    "print(f\"Custo de teste = {score[0]:.4f}\")\n",
    "print(f\"Acurácia de teste = {100*score[1]:.2f}%\")"
   ]
  },
  {
   "cell_type": "code",
   "execution_count": 38,
   "metadata": {},
   "outputs": [],
   "source": [
    "classification = ['Anormal','Normal']"
   ]
  },
  {
   "cell_type": "code",
   "execution_count": 39,
   "metadata": {},
   "outputs": [],
   "source": [
    "pred = model.predict(X_test)"
   ]
  },
  {
   "cell_type": "code",
   "execution_count": 40,
   "metadata": {},
   "outputs": [],
   "source": [
    "pred_classification = np.array(classification)[pred.argmax(axis=-1)]"
   ]
  },
  {
   "cell_type": "code",
   "execution_count": 41,
   "metadata": {},
   "outputs": [
    {
     "name": "stdout",
     "output_type": "stream",
     "text": [
      "[[0.06256855 0.93743145]\n",
      " [0.55173033 0.44826967]\n",
      " [0.26125517 0.73874485]\n",
      " ...\n",
      " [0.75824493 0.24175507]\n",
      " [0.8503535  0.14964648]\n",
      " [0.977032   0.02296802]]\n",
      "['Normal' 'Anormal' 'Normal' ... 'Anormal' 'Anormal' 'Anormal']\n"
     ]
    }
   ],
   "source": [
    "print(pred)\n",
    "print(pred_classification)"
   ]
  },
  {
   "cell_type": "markdown",
   "metadata": {},
   "source": [
    "------------------------------------------------------------------------  "
   ]
  },
  {
   "cell_type": "markdown",
   "metadata": {},
   "source": [
    "**Teste das métricas:**    \n",
    "Accuracy \n",
    "Precision  \n",
    "Recall  \n",
    "F1"
   ]
  },
  {
   "cell_type": "code",
   "execution_count": 42,
   "metadata": {},
   "outputs": [],
   "source": [
    "pred_bin = []\n",
    "for i in range(len(pred_classification)):\n",
    "    if pred_classification[i] == 'Normal':\n",
    "        pred_bin.append(1)\n",
    "    else:\n",
    "        pred_bin.append(0)"
   ]
  },
  {
   "cell_type": "code",
   "execution_count": 43,
   "metadata": {},
   "outputs": [],
   "source": [
    "from sklearn.metrics import accuracy_score\n",
    "from sklearn.metrics import precision_score\n",
    "from sklearn.metrics import recall_score\n",
    "from sklearn.metrics import f1_score"
   ]
  },
  {
   "cell_type": "code",
   "execution_count": 44,
   "metadata": {},
   "outputs": [],
   "source": [
    "acc_teste = accuracy_score(y_test, pred_bin)\n",
    "precision = precision_score(y_test, pred_bin)\n",
    "recall = recall_score(y_test, pred_bin)\n",
    "f1 = f1_score(y_test, pred_bin, average='macro')"
   ]
  },
  {
   "cell_type": "code",
   "execution_count": 45,
   "metadata": {},
   "outputs": [
    {
     "data": {
      "text/plain": [
       "0.7906211435623199"
      ]
     },
     "execution_count": 45,
     "metadata": {},
     "output_type": "execute_result"
    }
   ],
   "source": [
    "f1 = 2 * ((0.6550783912747103 * 0.9968879668049793)/(0.6550783912747103 + 0.9968879668049793))\n",
    "f1"
   ]
  },
  {
   "cell_type": "code",
   "execution_count": 46,
   "metadata": {},
   "outputs": [
    {
     "name": "stdout",
     "output_type": "stream",
     "text": [
      "Accuracy: 0.8617660656495608\n",
      "Precision: 0.8163653663177926\n",
      "Recall: 0.8900414937759336\n",
      "F1 Score: <function f1_score at 0x0000017FE8BAA678>\n"
     ]
    }
   ],
   "source": [
    "print(f\"Accuracy: {acc_teste}\")\n",
    "print(f\"Precision: {precision}\")\n",
    "print(f\"Recall: {recall}\")\n",
    "print(f\"F1 Score: {f1_score}\")"
   ]
  },
  {
   "cell_type": "code",
   "execution_count": 47,
   "metadata": {},
   "outputs": [],
   "source": [
    "from sklearn.metrics import classification_report"
   ]
  },
  {
   "cell_type": "code",
   "execution_count": 48,
   "metadata": {},
   "outputs": [
    {
     "name": "stdout",
     "output_type": "stream",
     "text": [
      "              precision    recall  f1-score   support\n",
      "\n",
      "           0       0.90      0.84      0.87      1199\n",
      "           1       0.82      0.89      0.85       964\n",
      "\n",
      "    accuracy                           0.86      2163\n",
      "   macro avg       0.86      0.86      0.86      2163\n",
      "weighted avg       0.87      0.86      0.86      2163\n",
      "\n"
     ]
    }
   ],
   "source": [
    "print(classification_report(y_test, pred_bin))"
   ]
  },
  {
   "cell_type": "markdown",
   "metadata": {},
   "source": [
    "  --------------------------------------------------------"
   ]
  },
  {
   "cell_type": "markdown",
   "metadata": {},
   "source": [
    " Visualização da previsão de um exemplo"
   ]
  },
  {
   "cell_type": "code",
   "execution_count": 49,
   "metadata": {},
   "outputs": [],
   "source": [
    "import matplotlib.pyplot as plt"
   ]
  },
  {
   "cell_type": "code",
   "execution_count": 52,
   "metadata": {},
   "outputs": [
    {
     "name": "stdout",
     "output_type": "stream",
     "text": [
      "index: 100\n",
      "pred = [0.98212653 0.01787349]\n"
     ]
    },
    {
     "data": {
      "image/png": "[encoded data removed]",
      "text/plain": [
       "<Figure size 720x504 with 1 Axes>"
      ]
     },
     "metadata": {
      "needs_background": "light"
     },
     "output_type": "display_data"
    }
   ],
   "source": [
    "index = 100\n",
    "    \n",
    "print(f'index: {index}')\n",
    "print(\"pred =\",pred[index])   #Valores das \"probabilidades\" para cada categoria\n",
    "\n",
    "pred_classification = np.array(classification)[pred.argmax(axis=-1)]  \n",
    "\n",
    "if y_test[index]==1:\n",
    "    title = \"Normal\"\n",
    "else:\n",
    "    title = \"Anormal\"\n",
    "    \n",
    "valor_med = X_test[index, ].mean(axis=-1)\n",
    "fig_s, ax_s = plt.subplots(figsize=(10,7))\n",
    "ax_s.set_title(f'Diagnóstico: {title}       Previsão:{pred_classification[index]}')\n",
    "ax_s.plot(valor_med)\n",
    "plt.show()"
   ]
  },
  {
   "cell_type": "markdown",
   "metadata": {},
   "source": [
    "Visualização da matriz de confusão"
   ]
  },
  {
   "cell_type": "code",
   "execution_count": 53,
   "metadata": {},
   "outputs": [],
   "source": [
    "import numpy\n",
    "from sklearn import metrics\n",
    "import itertools"
   ]
  },
  {
   "cell_type": "code",
   "execution_count": 54,
   "metadata": {},
   "outputs": [],
   "source": [
    "y_test_nome = []\n",
    "for i in range(len(y_test)):\n",
    "    if y_test[i]==1:\n",
    "        y_test_nome.append(\"Normal\")\n",
    "    else:\n",
    "        y_test_nome.append(\"Anormal\")\n",
    "    \n",
    "y_test_nome = numpy.array(y_test_nome)"
   ]
  },
  {
   "cell_type": "code",
   "execution_count": 55,
   "metadata": {},
   "outputs": [],
   "source": [
    "cm = metrics.confusion_matrix(y_true=y_test_nome,y_pred=pred_classification)"
   ]
  },
  {
   "cell_type": "code",
   "execution_count": 56,
   "metadata": {},
   "outputs": [],
   "source": [
    "def plot_confusion_matrix(cm, classes,\n",
    "                        normalize=False,\n",
    "                        title='Confusion matrix',\n",
    "                        cmap=plt.cm.Blues):\n",
    "    \"\"\"\n",
    "    This function prints and plots the confusion matrix.\n",
    "    Normalization can be applied by setting `normalize=True`.\n",
    "    \"\"\"\n",
    "    plt.imshow(cm, interpolation='nearest', cmap=cmap)\n",
    "    plt.title(title)\n",
    "    plt.colorbar()\n",
    "    tick_marks = np.arange(len(classes))\n",
    "    plt.xticks(tick_marks, classes, rotation=45)\n",
    "    plt.yticks(tick_marks, classes)\n",
    "\n",
    "    if normalize:\n",
    "        cm = cm.astype('float') / cm.sum(axis=1)[:, np.newaxis]\n",
    "        print(\"Normalized confusion matrix\")\n",
    "    else:\n",
    "        print('Confusion matrix, without normalization')\n",
    "\n",
    "    print(cm)\n",
    "\n",
    "    thresh = cm.max() / 2.\n",
    "    for i, j in itertools.product(range(cm.shape[0]), range(cm.shape[1])):\n",
    "        plt.text(j, i, cm[i, j],\n",
    "            horizontalalignment=\"center\",\n",
    "            color=\"white\" if cm[i, j] > thresh else \"black\")\n",
    "\n",
    "    plt.tight_layout()\n",
    "    local = 'E:/Usuários/Sarah/Documentos/UTFPR/TCC/Resultados/Gráficos/Matrix'\n",
    "    plt.savefig(local)\n",
    "    plt.ylabel('True label')\n",
    "    plt.xlabel('Predicted label')"
   ]
  },
  {
   "cell_type": "code",
   "execution_count": 57,
   "metadata": {},
   "outputs": [],
   "source": [
    "cm_plot_labels = ['ECG Anormal','ECG Normal']"
   ]
  },
  {
   "cell_type": "code",
   "execution_count": 58,
   "metadata": {},
   "outputs": [
    {
     "name": "stdout",
     "output_type": "stream",
     "text": [
      "Confusion matrix, without normalization\n",
      "[[1006  193]\n",
      " [ 106  858]]\n"
     ]
    },
    {
     "data": {
      "image/png": "[encoded data removed]",
      "text/plain": [
       "<Figure size 432x288 with 2 Axes>"
      ]
     },
     "metadata": {
      "needs_background": "light"
     },
     "output_type": "display_data"
    }
   ],
   "source": [
    "plot_confusion_matrix(cm=cm, classes=cm_plot_labels, title='Confusion Matrix')"
   ]
  }
 ],
 "metadata": {
  "kernelspec": {
   "display_name": "Python 3",
   "language": "python",
   "name": "python3"
  },
  "language_info": {
   "codemirror_mode": {
    "name": "ipython",
    "version": 3
   },
   "file_extension": ".py",
   "mimetype": "text/x-python",
   "name": "python",
   "nbconvert_exporter": "python",
   "pygments_lexer": "ipython3",
   "version": "3.7.9"
  }
 },
 "nbformat": 4,
 "nbformat_minor": 4
}
